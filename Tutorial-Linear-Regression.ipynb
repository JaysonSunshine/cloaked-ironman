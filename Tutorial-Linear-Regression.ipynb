{
 "metadata": {
  "name": "",
  "signature": "sha256:e00b06c1a09ae4c002cd1dbeb61051c5b9801fdeebfad861391aff26ca364a66"
 },
 "nbformat": 3,
 "nbformat_minor": 0,
 "worksheets": [
  {
   "cells": [
    {
     "cell_type": "code",
     "collapsed": false,
     "input": [
      "from pyspark.context import SparkContext\n",
      "print \"Running Spark Version %s\" % (sc.version)"
     ],
     "language": "python",
     "metadata": {},
     "outputs": [
      {
       "output_type": "stream",
       "stream": "stdout",
       "text": [
        "Running Spark Version 1.1.0\n"
       ]
      }
     ],
     "prompt_number": 56
    },
    {
     "cell_type": "code",
     "collapsed": false,
     "input": [
      "from pyspark.conf import SparkConf\n",
      "conf = SparkConf()\n",
      "print conf.toDebugString()"
     ],
     "language": "python",
     "metadata": {},
     "outputs": [
      {
       "output_type": "stream",
       "stream": "stdout",
       "text": [
        "spark.app.name=pyspark-shell\n",
        "spark.io.compression.codec=org.apache.spark.io.LZFCompressionCodec\n",
        "spark.master=local[*]\n",
        "spark.submit.pyFiles=\n"
       ]
      }
     ],
     "prompt_number": 57
    },
    {
     "cell_type": "code",
     "collapsed": false,
     "input": [
      "inp_file = sc.textFile(\"car-data/car-milage.csv\")\n",
      "car_rdd = inp_file.map(lambda line: line.split(','))"
     ],
     "language": "python",
     "metadata": {},
     "outputs": [],
     "prompt_number": 58
    },
    {
     "cell_type": "code",
     "collapsed": false,
     "input": [
      "car_rdd.count()"
     ],
     "language": "python",
     "metadata": {},
     "outputs": [
      {
       "metadata": {},
       "output_type": "pyout",
       "prompt_number": 59,
       "text": [
        "33"
       ]
      }
     ],
     "prompt_number": 59
    },
    {
     "cell_type": "code",
     "collapsed": false,
     "input": [
      "car_rdd.first()"
     ],
     "language": "python",
     "metadata": {},
     "outputs": [
      {
       "metadata": {},
       "output_type": "pyout",
       "prompt_number": 60,
       "text": [
        "[u'mpg',\n",
        " u'displacement',\n",
        " u'hp',\n",
        " u'torque',\n",
        " u'CRatio',\n",
        " u'RARatio',\n",
        " u'CarbBarrells',\n",
        " u'NoOfSpeed',\n",
        " u'length',\n",
        " u'width',\n",
        " u'weight',\n",
        " u'automatic']"
       ]
      }
     ],
     "prompt_number": 60
    },
    {
     "cell_type": "code",
     "collapsed": false,
     "input": [
      "inp_file = sc.textFile(\"car-data/car-milage-no-hdr.csv\")\n",
      "car_rdd = inp_file.map(lambda line: line.split(','))"
     ],
     "language": "python",
     "metadata": {},
     "outputs": [],
     "prompt_number": 61
    },
    {
     "cell_type": "code",
     "collapsed": false,
     "input": [
      "car_rdd.first()"
     ],
     "language": "python",
     "metadata": {},
     "outputs": [
      {
       "metadata": {},
       "output_type": "pyout",
       "prompt_number": 62,
       "text": [
        "[u'18.9',\n",
        " u'350',\n",
        " u'165',\n",
        " u'260',\n",
        " u'8',\n",
        " u'2.56',\n",
        " u'4',\n",
        " u'3',\n",
        " u'200.3',\n",
        " u'69.9',\n",
        " u'3910',\n",
        " u'1']"
       ]
      }
     ],
     "prompt_number": 62
    },
    {
     "cell_type": "code",
     "collapsed": false,
     "input": [
      "inp_file = sc.textFile(\"car-data/car-milage-no-hdr.csv\")\n",
      "car_rdd = inp_file.map(lambda line: array([float(x) for x in line.split(',')]))\n",
      "car_rdd.first()"
     ],
     "language": "python",
     "metadata": {},
     "outputs": [
      {
       "metadata": {},
       "output_type": "pyout",
       "prompt_number": 63,
       "text": [
        "array([  1.89000000e+01,   3.50000000e+02,   1.65000000e+02,\n",
        "         2.60000000e+02,   8.00000000e+00,   2.56000000e+00,\n",
        "         4.00000000e+00,   3.00000000e+00,   2.00300000e+02,\n",
        "         6.99000000e+01,   3.91000000e+03,   1.00000000e+00])"
       ]
      }
     ],
     "prompt_number": 63
    },
    {
     "cell_type": "code",
     "collapsed": false,
     "input": [
      "from pyspark.mllib.stat import Statistics\n",
      "summary = Statistics.colStats(car_rdd)"
     ],
     "language": "python",
     "metadata": {},
     "outputs": [],
     "prompt_number": 64
    },
    {
     "cell_type": "code",
     "collapsed": false,
     "input": [
      "print str(summary)"
     ],
     "language": "python",
     "metadata": {},
     "outputs": [
      {
       "output_type": "stream",
       "stream": "stdout",
       "text": [
        "<pyspark.mllib.stat.MultivariateStatisticalSummary object at 0x1097a7310>\n"
       ]
      }
     ],
     "prompt_number": 65
    },
    {
     "cell_type": "code",
     "collapsed": false,
     "input": [
      "for x in summary.min():\n",
      "    print \"%4.4f \" % x,\n",
      "print\n",
      "for x in summary.mean():\n",
      "    print \"%4.4f \" % x,\n",
      "print\n",
      "for x in summary.max():\n",
      "    print \"%4.4f \" % x,\n",
      "print"
     ],
     "language": "python",
     "metadata": {},
     "outputs": [
      {
       "output_type": "stream",
       "stream": "stdout",
       "text": [
        "11.2000  85.3000  70.0000  81.0000  8.0000  2.4500  1.0000  3.0000  155.7000  61.8000  1905.0000  0.0000 \n",
        "20.0383  286.0467  136.9667  217.9000  8.3133  3.0590  2.5667  3.3333  192.3400  71.4200  3625.8000  0.7333 \n",
        "36.5000  500.0000  223.0000  366.0000  9.0000  4.3000  4.0000  5.0000  231.0000  79.8000  5430.0000  1.0000 \n"
       ]
      }
     ],
     "prompt_number": 66
    },
    {
     "cell_type": "code",
     "collapsed": false,
     "input": [
      "hp = car_rdd.map(lambda x: x[2])\n",
      "weight = car_rdd.map(lambda x: x[10])\n",
      "print '%2.3f' % Statistics.corr(hp, weight, method=\"pearson\")\n",
      "print '%2.3f' % Statistics.corr(hp, weight, method=\"spearman\")"
     ],
     "language": "python",
     "metadata": {},
     "outputs": [
      {
       "output_type": "stream",
       "stream": "stdout",
       "text": [
        "0.888\n",
        "0.874"
       ]
      },
      {
       "output_type": "stream",
       "stream": "stdout",
       "text": [
        "\n"
       ]
      }
     ],
     "prompt_number": 67
    },
    {
     "cell_type": "code",
     "collapsed": false,
     "input": [
      "ra_ratio = car_rdd.map(lambda x: x[5])\n",
      "width = car_rdd.map(lambda x: x[9])\n",
      "print '%2.3f' % Statistics.corr(ra_ratio, width, method=\"pearson\")\n",
      "print '%2.3f' % Statistics.corr(ra_ratio, width, method=\"spearman\")"
     ],
     "language": "python",
     "metadata": {},
     "outputs": [
      {
       "output_type": "stream",
       "stream": "stdout",
       "text": [
        "-0.453\n",
        "-0.244"
       ]
      },
      {
       "output_type": "stream",
       "stream": "stdout",
       "text": [
        "\n"
       ]
      }
     ],
     "prompt_number": 68
    },
    {
     "cell_type": "heading",
     "level": 1,
     "metadata": {},
     "source": [
      "Linear Regression"
     ]
    },
    {
     "cell_type": "code",
     "collapsed": false,
     "input": [
      "from pyspark.mllib.regression import LabeledPoint\n",
      "from pyspark.mllib.regression import LinearRegressionWithSGD\n",
      "from pyspark.mllib.regression import LassoWithSGD\n",
      "from pyspark.mllib.regression import RidgeRegressionWithSGD"
     ],
     "language": "python",
     "metadata": {},
     "outputs": [],
     "prompt_number": 121
    },
    {
     "cell_type": "code",
     "collapsed": false,
     "input": [
      "data = [\n",
      "   LabeledPoint(0.0, [0.0]),\n",
      "   LabeledPoint(10.0, [10.0]),\n",
      "   LabeledPoint(20.0, [20.0]),\n",
      "   LabeledPoint(30.0, [30.0])\n",
      "]\n",
      "lrm = LinearRegressionWithSGD.train(sc.parallelize(data), initialWeights=array([1.0]))\n",
      "print lrm\n",
      "print lrm.weights\n",
      "print lrm.intercept\n",
      "lrm.predict([40])"
     ],
     "language": "python",
     "metadata": {},
     "outputs": [
      {
       "output_type": "stream",
       "stream": "stdout",
       "text": [
        "<pyspark.mllib.regression.LinearRegressionModel object at 0x1097fae10>\n",
        "[ 1.]\n",
        "0.0\n"
       ]
      },
      {
       "metadata": {},
       "output_type": "pyout",
       "prompt_number": 82,
       "text": [
        "40.0"
       ]
      }
     ],
     "prompt_number": 82
    },
    {
     "cell_type": "code",
     "collapsed": false,
     "input": [
      "data_test = [\n",
      "   LabeledPoint(5.0, [5.0]),\n",
      "   LabeledPoint(15.0, [15.0]),\n",
      "   LabeledPoint(25.0, [25.0]),\n",
      "   LabeledPoint(35.0, [35.0])\n",
      "]\n",
      "data_test_rdd = sc.parallelize(data_test)\n",
      "valuesAndPreds = data_test_rdd.map(lambda p: (p.label, lrm.predict(p.features)))\n",
      "#\n",
      "MSE = valuesAndPreds.map(lambda (v, p): (v - p)**2).reduce(lambda x, y: x + y) / valuesAndPreds.count()\n",
      "print(\"Mean Squared Error = \" + str(MSE))"
     ],
     "language": "python",
     "metadata": {},
     "outputs": [
      {
       "output_type": "stream",
       "stream": "stdout",
       "text": [
        "Mean Squared Error = 0.0\n"
       ]
      }
     ],
     "prompt_number": 84
    },
    {
     "cell_type": "code",
     "collapsed": false,
     "input": [
      "valuesAndPreds.take(10)"
     ],
     "language": "python",
     "metadata": {},
     "outputs": [
      {
       "metadata": {},
       "output_type": "pyout",
       "prompt_number": 86,
       "text": [
        "[(5.0, 5.0), (15.0, 15.0), (25.0, 25.0), (35.0, 35.0)]"
       ]
      }
     ],
     "prompt_number": 86
    },
    {
     "cell_type": "code",
     "collapsed": false,
     "input": [
      "data = [\n",
      "   LabeledPoint(0.0, [0.0]),\n",
      "   LabeledPoint(9.0, [10.0]),\n",
      "   LabeledPoint(22.0, [20.0]),\n",
      "   LabeledPoint(32.0, [30.0])\n",
      "]\n",
      "lrm = LinearRegressionWithSGD.train(sc.parallelize(data), initialWeights=array([1.0])) # should be 1.09x -0.60\n",
      "        # Default step size of 1.0 will diverge\n",
      "print \"Step Size 1.0 (Default)\"\n",
      "print lrm\n",
      "print lrm.weights\n",
      "print lrm.intercept\n",
      "print \"%3.3f\" % lrm.predict([40])\n",
      "lrm = LinearRegressionWithSGD.train(sc.parallelize(data), initialWeights=array([1.0]), step=0.01) # should be 1.09x -0.60\n",
      "        # Default step size of 1.0 will diverge\n",
      "print\n",
      "print \"Step Size 0.01\"\n",
      "print lrm\n",
      "print lrm.weights\n",
      "print lrm.intercept\n",
      "print \"%3.3f\" % lrm.predict([40])"
     ],
     "language": "python",
     "metadata": {},
     "outputs": [
      {
       "output_type": "stream",
       "stream": "stdout",
       "text": [
        "Step Size 1.0 (Default)\n",
        "<pyspark.mllib.regression.LinearRegressionModel object at 0x10981aa50>\n",
        "[ -8.20487463e+203]\n",
        "0.0\n",
        "-32819498532740317012816943693877441493781802880582917374776851947760615446138070016506321244331968883829791103581970684008198274614707080395674760250183994114987647065287796368471911166278012454885847465984.000\n",
        "\n"
       ]
      },
      {
       "output_type": "stream",
       "stream": "stdout",
       "text": [
        "Step Size 0.01\n",
        "<pyspark.mllib.regression.LinearRegressionModel object at 0x109802150>\n",
        "[ 1.06428571]\n",
        "0.0\n",
        "42.571\n"
       ]
      }
     ],
     "prompt_number": 90
    },
    {
     "cell_type": "code",
     "collapsed": false,
     "input": [
      "data = [\n",
      "   LabeledPoint(18.9, [3910.0]),\n",
      "   LabeledPoint(17.0, [3860.0]),\n",
      "   LabeledPoint(20.0, [4200.0]),\n",
      "   LabeledPoint(16.6, [3660.0])\n",
      "]\n",
      "lrm = LinearRegressionWithSGD.train(sc.parallelize(data), step=0.00000001) # should be ~ 0.006582x -7.595170\n",
      "print lrm\n",
      "print lrm.weights\n",
      "print lrm.intercept\n",
      "lrm.predict([4000])"
     ],
     "language": "python",
     "metadata": {},
     "outputs": [
      {
       "output_type": "stream",
       "stream": "stdout",
       "text": [
        "<pyspark.mllib.regression.LinearRegressionModel object at 0x109813a50>\n",
        "[ 0.00463128]\n",
        "0.0\n"
       ]
      },
      {
       "metadata": {},
       "output_type": "pyout",
       "prompt_number": 88,
       "text": [
        "18.525136629034495"
       ]
      }
     ],
     "prompt_number": 88
    },
    {
     "cell_type": "heading",
     "level": 2,
     "metadata": {},
     "source": [
      "That is All Folks !"
     ]
    },
    {
     "cell_type": "heading",
     "level": 3,
     "metadata": {},
     "source": [
      "Homework "
     ]
    },
    {
     "cell_type": "markdown",
     "metadata": {},
     "source": [
      "1.  Convert the car data to labelled points\n",
      "2.  Partition to Train & Test\n",
      "3.  Train the three Linear Models\n",
      "4.  Calculate the MSE for the three models"
     ]
    },
    {
     "cell_type": "code",
     "collapsed": false,
     "input": [
      "from pyspark.mllib.regression import LabeledPoint\n",
      "def parse_car_data(x):\n",
      "    # return labelled point\n",
      "    return LabeledPoint(x[0],[ x[1],x[2],x[3],x[4],x[5],x[6],x[7],x[8],x[9],x[10],x[11] ]) "
     ],
     "language": "python",
     "metadata": {},
     "outputs": [],
     "prompt_number": 91
    },
    {
     "cell_type": "code",
     "collapsed": false,
     "input": [
      "car_rdd_lp = car_rdd.map(lambda x: parse_car_data(x))\n",
      "car_rdd_lp.count()\n",
      "car_rdd_lp.first().label\n",
      "car_rdd_lp.first().features"
     ],
     "language": "python",
     "metadata": {},
     "outputs": [
      {
       "metadata": {},
       "output_type": "pyout",
       "prompt_number": 100,
       "text": [
        "array([  3.50000000e+02,   1.65000000e+02,   2.60000000e+02,\n",
        "         8.00000000e+00,   2.56000000e+00,   4.00000000e+00,\n",
        "         3.00000000e+00,   2.00300000e+02,   6.99000000e+01,\n",
        "         3.91000000e+03,   1.00000000e+00])"
       ]
      }
     ],
     "prompt_number": 100
    },
    {
     "cell_type": "code",
     "collapsed": false,
     "input": [
      "car_rdd_train = car_rdd_lp.filter(lambda x: x.features[9] <= 4000)\n",
      "car_rdd_train.count()"
     ],
     "language": "python",
     "metadata": {},
     "outputs": [
      {
       "metadata": {},
       "output_type": "pyout",
       "prompt_number": 101,
       "text": [
        "21"
       ]
      }
     ],
     "prompt_number": 101
    },
    {
     "cell_type": "code",
     "collapsed": false,
     "input": [
      "car_rdd_test = car_rdd_lp.filter(lambda x: x.features[9] > 4000)\n",
      "car_rdd_test.count()"
     ],
     "language": "python",
     "metadata": {},
     "outputs": [
      {
       "metadata": {},
       "output_type": "pyout",
       "prompt_number": 102,
       "text": [
        "9"
       ]
      }
     ],
     "prompt_number": 102
    },
    {
     "cell_type": "code",
     "collapsed": false,
     "input": [
      "lrm = LinearRegressionWithSGD.train(car_rdd_train, step=0.000000001)\n",
      "print lrm\n",
      "print lrm.weights\n",
      "print lrm.intercept"
     ],
     "language": "python",
     "metadata": {},
     "outputs": [
      {
       "output_type": "stream",
       "stream": "stdout",
       "text": [
        "<pyspark.mllib.regression.LinearRegressionModel object at 0x1097fa090>\n",
        "[  1.44252226e-04   7.48814412e-05   1.12190389e-04   5.82707822e-06\n",
        "   2.28353284e-06   1.53623392e-06   2.54446733e-06   1.23767251e-04\n",
        "   4.70353776e-05   2.05239630e-03   3.44866985e-07]\n",
        "0.0\n"
       ]
      }
     ],
     "prompt_number": 114
    },
    {
     "cell_type": "code",
     "collapsed": false,
     "input": [
      "valuesAndPreds = car_rdd_test.map(lambda p: (p.label, lrm.predict(p.features)))\n",
      "MSE = valuesAndPreds.map(lambda (v, p): (v - p)**2).reduce(lambda x, y: x + y) / valuesAndPreds.count()\n",
      "print(\"Mean Squared Error = \" + str(MSE))"
     ],
     "language": "python",
     "metadata": {},
     "outputs": [
      {
       "output_type": "stream",
       "stream": "stdout",
       "text": [
        "Mean Squared Error = 40.8130551358\n"
       ]
      }
     ],
     "prompt_number": 115
    },
    {
     "cell_type": "code",
     "collapsed": false,
     "input": [
      "valuesAndPreds.take(20)"
     ],
     "language": "python",
     "metadata": {},
     "outputs": [
      {
       "metadata": {},
       "output_type": "pyout",
       "prompt_number": 116,
       "text": [
        "[(11.199999999999999, 8.7935927102067879),\n",
        " (14.390000000000001, 11.015478114578457),\n",
        " (14.890000000000001, 10.790675190397307),\n",
        " (21.469999999999999, 8.850794293326226),\n",
        " (13.27, 11.300668132978153),\n",
        " (19.73, 9.0842386551733849),\n",
        " (13.9, 9.4372856676250674),\n",
        " (13.27, 9.7965293036129992),\n",
        " (13.77, 8.780093672595136)]"
       ]
      }
     ],
     "prompt_number": 116
    },
    {
     "cell_type": "code",
     "collapsed": false,
     "input": [
      "lrm = LassoWithSGD.train(car_rdd_train, step=0.000000001)\n",
      "print lrm.weights\n",
      "print lrm.intercept\n",
      "valuesAndPreds = car_rdd_test.map(lambda p: (p.label, lrm.predict(p.features)))\n",
      "MSE = valuesAndPreds.map(lambda (v, p): (v - p)**2).reduce(lambda x, y: x + y) / valuesAndPreds.count()\n",
      "print(\"Mean Squared Error = \" + str(MSE))"
     ],
     "language": "python",
     "metadata": {},
     "outputs": [
      {
       "output_type": "stream",
       "stream": "stdout",
       "text": [
        "[  1.44233946e-04   7.48629990e-05   1.12172034e-04   5.80849857e-06\n",
        "   2.26494685e-06   1.51764722e-06   2.52588172e-06   1.23748883e-04\n",
        "   4.70168713e-05   2.05238167e-03   3.26278228e-07]\n",
        "0.0\n",
        "Mean Squared Error = 40.8139879092"
       ]
      },
      {
       "output_type": "stream",
       "stream": "stdout",
       "text": [
        "\n"
       ]
      }
     ],
     "prompt_number": 119
    },
    {
     "cell_type": "code",
     "collapsed": false,
     "input": [
      "valuesAndPreds.take(20)"
     ],
     "language": "python",
     "metadata": {},
     "outputs": [
      {
       "metadata": {},
       "output_type": "pyout",
       "prompt_number": 118,
       "text": [
        "[(11.199999999999999, 8.7935079678519656),\n",
        " (14.390000000000001, 11.015375530814664),\n",
        " (14.890000000000001, 10.790575210002503),\n",
        " (21.469999999999999, 8.8507112418814575),\n",
        " (13.27, 11.300563446411568),\n",
        " (19.73, 9.084155969347405),\n",
        " (13.9, 9.4371999194081866),\n",
        " (13.27, 9.796440984304553),\n",
        " (13.77, 8.7800107869681376)]"
       ]
      }
     ],
     "prompt_number": 118
    },
    {
     "cell_type": "code",
     "collapsed": false,
     "input": [
      "lrm = RidgeRegressionWithSGD.train(car_rdd_train, step=0.000000001)\n",
      "print lrm.weights\n",
      "print lrm.intercept\n",
      "valuesAndPreds = car_rdd_test.map(lambda p: (p.label, lrm.predict(p.features)))\n",
      "MSE = valuesAndPreds.map(lambda (v, p): (v - p)**2).reduce(lambda x, y: x + y) / valuesAndPreds.count()\n",
      "print(\"Mean Squared Error = \" + str(MSE))"
     ],
     "language": "python",
     "metadata": {},
     "outputs": [
      {
       "output_type": "stream",
       "stream": "stdout",
       "text": [
        "[  1.44252225e-04   7.48814406e-05   1.12190388e-04   5.82707817e-06\n",
        "   2.28353282e-06   1.53623390e-06   2.54446731e-06   1.23767250e-04\n",
        "   4.70353772e-05   2.05239628e-03   3.44866982e-07]\n",
        "0.0\n",
        "Mean Squared Error = 40.8130560012"
       ]
      },
      {
       "output_type": "stream",
       "stream": "stdout",
       "text": [
        "\n"
       ]
      }
     ],
     "prompt_number": 128
    },
    {
     "cell_type": "code",
     "collapsed": false,
     "input": [],
     "language": "python",
     "metadata": {},
     "outputs": []
    }
   ],
   "metadata": {}
  }
 ]
}