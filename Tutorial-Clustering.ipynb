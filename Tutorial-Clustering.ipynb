{
 "metadata": {
  "name": "",
  "signature": "sha256:0389a62ca9d9d73b96840d71ed2cf56a95573a450837961247dc34a6efbe172d"
 },
 "nbformat": 3,
 "nbformat_minor": 0,
 "worksheets": [
  {
   "cells": [
    {
     "cell_type": "code",
     "collapsed": false,
     "input": [
      "from pyspark.context import SparkContext\n",
      "print \"Running Spark Version %s\" % (sc.version)"
     ],
     "language": "python",
     "metadata": {},
     "outputs": [
      {
       "output_type": "stream",
       "stream": "stdout",
       "text": [
        "Running Spark Version 1.1.0\n"
       ]
      }
     ],
     "prompt_number": 57
    },
    {
     "cell_type": "code",
     "collapsed": false,
     "input": [
      "import csv\n",
      "import StringIO"
     ],
     "language": "python",
     "metadata": {},
     "outputs": [],
     "prompt_number": 58
    },
    {
     "cell_type": "code",
     "collapsed": false,
     "input": [
      "def read_record_as_dict(inp_line):\n",
      "    a_line = StringIO.StringIO(inp_line)\n",
      "    reader = csv.DictReader(a_line, fieldnames=[\"Balance\",\"TopStatusQualMiles\",\"NonFlightMiles\",\"NonFlightTrans\",\n",
      "                                               \"FlightMiles\",\"FlightTrans\",\"DaysSinceEnroll\"])\n",
      "    return reader.next()"
     ],
     "language": "python",
     "metadata": {},
     "outputs": [],
     "prompt_number": 59
    },
    {
     "cell_type": "code",
     "collapsed": false,
     "input": [
      "freq_flyers = sc.textFile(\"freq-flyer/AirlinesCluster-01.csv\").map(read_record_as_dict)"
     ],
     "language": "python",
     "metadata": {},
     "outputs": [],
     "prompt_number": 60
    },
    {
     "cell_type": "code",
     "collapsed": false,
     "input": [
      "freq_flyers.first()"
     ],
     "language": "python",
     "metadata": {},
     "outputs": [
      {
       "metadata": {},
       "output_type": "pyout",
       "prompt_number": 61,
       "text": [
        "{'Balance': '28143',\n",
        " 'DaysSinceEnroll': '7000',\n",
        " 'FlightMiles': '0',\n",
        " 'FlightTrans': '0',\n",
        " 'NonFlightMiles': '174',\n",
        " 'NonFlightTrans': '1',\n",
        " 'TopStatusQualMiles': '0'}"
       ]
      }
     ],
     "prompt_number": 61
    },
    {
     "cell_type": "code",
     "collapsed": false,
     "input": [
      "freq_flyers.count()"
     ],
     "language": "python",
     "metadata": {},
     "outputs": [
      {
       "metadata": {},
       "output_type": "pyout",
       "prompt_number": 62,
       "text": [
        "3999"
       ]
      }
     ],
     "prompt_number": 62
    },
    {
     "cell_type": "code",
     "collapsed": false,
     "input": [
      "pic_str = \"%15s|%15s|%15s|%15s|%15s|%15s|%15s|\"\n",
      "print pic_str % (\"Balance\",\"NonFlightMiles\",\"NonFlightTrans\",\n",
      "                                    \"DaysSinceEnroll\",\"FlightMiles\",\"FlightTrans\",\"TopStatusQualMiles\")\n",
      "for x in freq_flyers.take(5):\n",
      "    print pic_str % (x[\"Balance\"],x[\"NonFlightMiles\"],x[\"NonFlightTrans\"],\n",
      "                                    x[\"DaysSinceEnroll\"],x[\"FlightMiles\"],x[\"FlightTrans\"],x[\"TopStatusQualMiles\"])"
     ],
     "language": "python",
     "metadata": {},
     "outputs": [
      {
       "output_type": "stream",
       "stream": "stdout",
       "text": [
        "        Balance| NonFlightMiles| NonFlightTrans|DaysSinceEnroll|    FlightMiles|    FlightTrans|TopStatusQualMiles|\n",
        "          28143|            174|              1|           7000|              0|              0|              0|\n",
        "          19244|            215|              2|           6968|              0|              0|              0|\n",
        "          41354|           4123|              4|           7034|              0|              0|              0|\n",
        "          14776|            500|              1|           6952|              0|              0|              0|\n",
        "          97752|          43300|             26|           6935|           2077|              4|              0|\n"
       ]
      }
     ],
     "prompt_number": 63
    },
    {
     "cell_type": "raw",
     "metadata": {},
     "source": [
      "But we need a table of numbers & strings. The above was just for understanding the data format"
     ]
    },
    {
     "cell_type": "code",
     "collapsed": false,
     "input": [
      "from pyspark.mllib.clustering import KMeans\n",
      "from numpy import array\n",
      "from math import sqrt"
     ],
     "language": "python",
     "metadata": {},
     "outputs": [],
     "prompt_number": 64
    },
    {
     "cell_type": "code",
     "collapsed": false,
     "input": [
      "inp_file = sc.textFile(\"freq-flyer/AirlinesCluster-01.csv\")\n",
      "freq_rdd = inp_file.map(lambda line: array([float(x) for x in line.split(',')]))"
     ],
     "language": "python",
     "metadata": {},
     "outputs": [],
     "prompt_number": 65
    },
    {
     "cell_type": "code",
     "collapsed": false,
     "input": [
      "freq_rdd.first()\n",
      "# Balance, TopStatusQualMiles, NonFlightMiles, NonFlightTrans, FlightMiles, FlightTrans, DaysSinceEnroll"
     ],
     "language": "python",
     "metadata": {},
     "outputs": [
      {
       "metadata": {},
       "output_type": "pyout",
       "prompt_number": 66,
       "text": [
        "array([  2.81430000e+04,   0.00000000e+00,   1.74000000e+02,\n",
        "         1.00000000e+00,   0.00000000e+00,   0.00000000e+00,\n",
        "         7.00000000e+03])"
       ]
      }
     ],
     "prompt_number": 66
    },
    {
     "cell_type": "code",
     "collapsed": false,
     "input": [
      "help(KMeans.train)"
     ],
     "language": "python",
     "metadata": {},
     "outputs": [
      {
       "output_type": "stream",
       "stream": "stdout",
       "text": [
        "Help on method train in module pyspark.mllib.clustering:\n",
        "\n",
        "train(cls, data, k, maxIterations=100, runs=1, initializationMode='k-means||') method of __builtin__.type instance\n",
        "    Train a k-means clustering model.\n",
        "\n"
       ]
      }
     ],
     "prompt_number": 67
    },
    {
     "cell_type": "code",
     "collapsed": false,
     "input": [
      "km_mdl_1 = KMeans.train(freq_rdd, 2, maxIterations=10,runs=10, initializationMode=\"random\")"
     ],
     "language": "python",
     "metadata": {},
     "outputs": [],
     "prompt_number": 68
    },
    {
     "cell_type": "code",
     "collapsed": false,
     "input": [
      "for x in km_mdl_1.clusterCenters:\n",
      "        print \"%10.3f %10.3f %10.3f %10.3f %10.3f %10.3f %10.3f\" % (x[0],x[1],x[2],x[3],x[4],x[5],x[6])\n",
      "# Balance, TopStatusQualMiles, NonFlightMiles, NonFlightTrans, FlightMiles, FlightTrans, DaysSinceEnroll"
     ],
     "language": "python",
     "metadata": {},
     "outputs": [
      {
       "output_type": "stream",
       "stream": "stdout",
       "text": [
        "320111.326    341.607  41171.964     18.976   1241.275      3.843   5414.462\n",
        " 51356.287    126.293  14976.641     10.936    389.559      1.151   4001.617\n"
       ]
      }
     ],
     "prompt_number": 70
    },
    {
     "cell_type": "code",
     "collapsed": false,
     "input": [
      "for x in freq_rdd.take(10):\n",
      "    print x,km_mdl_1.predict(x)"
     ],
     "language": "python",
     "metadata": {},
     "outputs": [
      {
       "output_type": "stream",
       "stream": "stdout",
       "text": [
        "[  2.81430000e+04   0.00000000e+00   1.74000000e+02   1.00000000e+00\n",
        "   0.00000000e+00   0.00000000e+00   7.00000000e+03] 1\n",
        "[  1.92440000e+04   0.00000000e+00   2.15000000e+02   2.00000000e+00\n",
        "   0.00000000e+00   0.00000000e+00   6.96800000e+03] 1\n",
        "[  4.13540000e+04   0.00000000e+00   4.12300000e+03   4.00000000e+00\n",
        "   0.00000000e+00   0.00000000e+00   7.03400000e+03] 1\n",
        "[  1.47760000e+04   0.00000000e+00   5.00000000e+02   1.00000000e+00\n",
        "   0.00000000e+00   0.00000000e+00   6.95200000e+03] 1\n",
        "[  9.77520000e+04   0.00000000e+00   4.33000000e+04   2.60000000e+01\n",
        "   2.07700000e+03   4.00000000e+00   6.93500000e+03] 1\n",
        "[ 16420.      0.      0.      0.      0.      0.   6942.] 1\n",
        "[  8.49140000e+04   0.00000000e+00   2.74820000e+04   2.50000000e+01\n",
        "   0.00000000e+00   0.00000000e+00   6.99400000e+03] 1\n",
        "[  2.08560000e+04   0.00000000e+00   5.25000000e+03   4.00000000e+00\n",
        "   2.50000000e+02   1.00000000e+00   6.93800000e+03] 1\n",
        "[  4.43003000e+05   0.00000000e+00   1.75300000e+03   4.30000000e+01\n",
        "   3.85000000e+03   1.20000000e+01   6.94800000e+03] 0\n",
        "[  1.04860000e+05   0.00000000e+00   2.84260000e+04   2.80000000e+01\n",
        "   1.15000000e+03   3.00000000e+00   6.93100000e+03] 1\n"
       ]
      }
     ],
     "prompt_number": 71
    },
    {
     "cell_type": "code",
     "collapsed": false,
     "input": [
      "def squared_error(mdl, point):\n",
      "    center = mdl.centers[mdl.predict(point)]\n",
      "    return sqrt(sum([x**2 for x in (point - center)]))"
     ],
     "language": "python",
     "metadata": {},
     "outputs": [],
     "prompt_number": 88
    },
    {
     "cell_type": "code",
     "collapsed": false,
     "input": [
      "WSSSE = freq_rdd.map(lambda point: squared_error(km_mdl_1,point)).reduce(lambda x, y: x + y)\n",
      "print(\"Within Set Sum of Squared Error = \" + str(WSSSE))"
     ],
     "language": "python",
     "metadata": {},
     "outputs": [
      {
       "output_type": "stream",
       "stream": "stdout",
       "text": [
        "Within Set Sum of Squared Error = 191906529.055\n"
       ]
      }
     ],
     "prompt_number": 89
    },
    {
     "cell_type": "code",
     "collapsed": false,
     "input": [
      "from pyspark.mllib.stat import Statistics\n",
      "summary = Statistics.colStats(freq_rdd)\n",
      "print summary.mean()"
     ],
     "language": "python",
     "metadata": {},
     "outputs": [
      {
       "output_type": "stream",
       "stream": "stdout",
       "text": [
        "[  7.36013276e+04   1.44114529e+02   1.71448462e+04   1.16019005e+01\n",
        "   4.60055764e+02   1.37359340e+00   4.11855939e+03]\n"
       ]
      }
     ],
     "prompt_number": 74
    },
    {
     "cell_type": "code",
     "collapsed": false,
     "input": [
      "print \"Mean : %10.3f %10.3f %10.3f %10.3f %10.3f %10.3f %10.3f\" % (summary.mean()[0],summary.mean()[1],summary.mean()[2],\n",
      "                                                            summary.mean()[3],summary.mean()[4],summary.mean()[5],\n",
      "                                                            summary.mean()[6])\n",
      "print \"Max  : %10.3f %10.3f %10.3f %10.3f %10.3f %10.3f %10.3f\" % (summary.max()[0],summary.max()[1],\n",
      "                                                                       summary.max()[2],\n",
      "                                                            summary.max()[3],summary.max()[4],summary.max()[5],\n",
      "                                                            summary.max()[6])\n",
      "print \"Min  : %10.3f %10.3f %10.3f %10.3f %10.3f %10.3f %10.3f\" % (summary.min()[0],summary.min()[1],\n",
      "                                                                       summary.min()[2],\n",
      "                                                            summary.min()[3],summary.min()[4],summary.min()[5],\n",
      "                                                            summary.min()[6])\n",
      "print \"Variance : %10.3f %10.3f %10.3f %10.3f %10.3f %10.3f %10.3f\" % (summary.variance()[0],summary.variance()[1],\n",
      "                                                                       summary.variance()[2],\n",
      "                                                            summary.variance()[3],summary.variance()[4],summary.variance()[5],\n",
      "                                                            summary.variance()[6])\n",
      "# Balance, TopStatusQualMiles, NonFlightMiles, NonFlightTrans, FlightMiles, FlightTrans, DaysSinceEnroll"
     ],
     "language": "python",
     "metadata": {},
     "outputs": [
      {
       "output_type": "stream",
       "stream": "stdout",
       "text": [
        "Mean :  73601.328    144.115  17144.846     11.602    460.056      1.374   4118.559\n",
        "Max  : 1704838.000  11148.000 263685.000     86.000  30817.000     53.000   8296.000\n",
        "Min  :      0.000      0.000      0.000      0.000      0.000      0.000      2.000\n",
        "Variance : 10155734647.781 598555.682 583269246.943     92.233 1960585.724     14.388 4264780.669\n"
       ]
      }
     ],
     "prompt_number": 75
    },
    {
     "cell_type": "code",
     "collapsed": false,
     "input": [
      "# You see, K-means clustering is \"isotropic\" in all directions of space and therefore tends to produce \n",
      "# more or less round (rather than elongated) clusters. [Ref 2]\n",
      "# In this situation leaving variances unequal is equivalent to putting more weight on variables with smaller variance, \n",
      "# so clusters will tend to be separated along variables with greater variance. [Ref 3]\n",
      "#\n",
      "# center, scale, box-cox, preprocess in caret\n",
      "# zero mean and unit variance\n",
      "#\n",
      "# (x - mu)/sigma\n",
      "# org.apache.spark.mlib.feature.StandardScaler does this, but to the best of my knoledge \n",
      "#            as of now (9/28/14) not available for python \n",
      "# So we do it manually, gives us a chance to do some functional programming !\n",
      "#"
     ],
     "language": "python",
     "metadata": {},
     "outputs": [],
     "prompt_number": 76
    },
    {
     "cell_type": "code",
     "collapsed": false,
     "input": [
      "data_mean = summary.mean()\n",
      "data_sigma = summary.variance()"
     ],
     "language": "python",
     "metadata": {},
     "outputs": [],
     "prompt_number": 77
    },
    {
     "cell_type": "code",
     "collapsed": false,
     "input": [
      "for x in data_sigma:\n",
      "    print x,sqrt(x)"
     ],
     "language": "python",
     "metadata": {},
     "outputs": [
      {
       "output_type": "stream",
       "stream": "stdout",
       "text": [
        "10155734647.8 100775.664958\n",
        "598555.682228 773.663804393\n",
        "583269246.943 24150.9678262\n",
        "92.2331729756 9.6038103363\n",
        "1960585.7235 1400.20917134\n",
        "14.3881569442 3.79317241161\n",
        "4264780.66925 2065.13454023\n"
       ]
      }
     ],
     "prompt_number": 78
    },
    {
     "cell_type": "code",
     "collapsed": false,
     "input": [
      "def center_and_scale(a_record):\n",
      "    for i in range(len(a_record)):\n",
      "        a_record[i] = (a_record[i] - data_mean[i])/sqrt(data_sigma[i]) # (x-mean)/sd\n",
      "    return a_record"
     ],
     "language": "python",
     "metadata": {},
     "outputs": [],
     "prompt_number": 79
    },
    {
     "cell_type": "code",
     "collapsed": false,
     "input": [
      "freq_norm_rdd = freq_rdd.map(lambda x: center_and_scale(x))"
     ],
     "language": "python",
     "metadata": {},
     "outputs": [],
     "prompt_number": 80
    },
    {
     "cell_type": "code",
     "collapsed": false,
     "input": [
      "freq_norm_rdd.first()"
     ],
     "language": "python",
     "metadata": {},
     "outputs": [
      {
       "metadata": {},
       "output_type": "pyout",
       "prompt_number": 81,
       "text": [
        "array([-0.45108437, -0.18627539, -0.70269839, -1.10392647, -0.32856217,\n",
        "       -0.36212258,  1.39527985])"
       ]
      }
     ],
     "prompt_number": 81
    },
    {
     "cell_type": "code",
     "collapsed": false,
     "input": [
      "# now let us try with the standardized data\n",
      "km_mdl_std = KMeans.train(freq_norm_rdd, 2, maxIterations=10,runs=10, initializationMode=\"random\")"
     ],
     "language": "python",
     "metadata": {},
     "outputs": [],
     "prompt_number": 91
    },
    {
     "cell_type": "code",
     "collapsed": false,
     "input": [
      "for x in km_mdl_std.clusterCenters:\n",
      "        print \"%10.3f %10.3f %10.3f %10.3f %10.3f %10.3f %10.3f\" % (x[0],x[1],x[2],x[3],x[4],x[5],x[6])\n",
      "# Balance, TopStatusQualMiles, NonFlightMiles, NonFlightTrans, FlightMiles, FlightTrans, DaysSinceEnroll"
     ],
     "language": "python",
     "metadata": {},
     "outputs": [
      {
       "output_type": "stream",
       "stream": "stdout",
       "text": [
        "    -0.161     -0.091     -0.156     -0.165     -0.196     -0.213     -0.052\n",
        "     1.399      0.790      1.359      1.436      1.709      1.858      0.457\n"
       ]
      }
     ],
     "prompt_number": 92
    },
    {
     "cell_type": "code",
     "collapsed": false,
     "input": [
      "WSSSE = freq_norm_rdd.map(lambda point: squared_error(km_mdl_std,point)).reduce(lambda x, y: x + y)\n",
      "print(\"Within Set Sum of Squared Error = \" + str(WSSSE))"
     ],
     "language": "python",
     "metadata": {},
     "outputs": [
      {
       "output_type": "stream",
       "stream": "stdout",
       "text": [
        "Within Set Sum of Squared Error = 7570.18797211\n"
       ]
      }
     ],
     "prompt_number": 93
    },
    {
     "cell_type": "code",
     "collapsed": false,
     "input": [
      "# Let us try with k= 5 clusters instead of k=2\n",
      "km_mdl_std_5 = KMeans.train(freq_norm_rdd, 5, maxIterations=10,runs=10, initializationMode=\"random\")"
     ],
     "language": "python",
     "metadata": {},
     "outputs": [],
     "prompt_number": 94
    },
    {
     "cell_type": "code",
     "collapsed": false,
     "input": [
      "for x in km_mdl_std_5.clusterCenters:\n",
      "        print \"%10.3f %10.3f %10.3f %10.3f %10.3f %10.3f %10.3f\" % (x[0],x[1],x[2],x[3],x[4],x[5],x[6])\n",
      "# Balance, TopStatusQualMiles, NonFlightMiles, NonFlightTrans, FlightMiles, FlightTrans, DaysSinceEnroll"
     ],
     "language": "python",
     "metadata": {},
     "outputs": [
      {
       "output_type": "stream",
       "stream": "stdout",
       "text": [
        "    -0.162     -0.109     -0.385     -0.317     -0.187     -0.202      0.829\n",
        "     0.576      0.758      0.470      1.642      3.848      4.030      0.165\n",
        "     0.402      0.151      1.231      0.981     -0.023     -0.024      0.305\n",
        "     4.887      0.221      1.887      0.992      0.711      0.960      1.065\n",
        "    -0.352     -0.064     -0.450     -0.436     -0.198     -0.212     -0.905\n"
       ]
      }
     ],
     "prompt_number": 95
    },
    {
     "cell_type": "code",
     "collapsed": false,
     "input": [
      "WSSSE = freq_norm_rdd.map(lambda point: squared_error(km_mdl_std_5,point)).reduce(lambda x, y: x + y)\n",
      "print(\"Within Set Sum of Squared Error = \" + str(WSSSE))"
     ],
     "language": "python",
     "metadata": {},
     "outputs": [
      {
       "output_type": "stream",
       "stream": "stdout",
       "text": [
        "Within Set Sum of Squared Error = 5906.66115712\n"
       ]
      }
     ],
     "prompt_number": 96
    },
    {
     "cell_type": "code",
     "collapsed": false,
     "input": [
      "km_mdl_std_10 = KMeans.train(freq_norm_rdd, 10, maxIterations=10,runs=10, initializationMode=\"random\")\n",
      "for x in km_mdl_std_10.clusterCenters:\n",
      "        print \"%10.3f %10.3f %10.3f %10.3f %10.3f %10.3f %10.3f\" % (x[0],x[1],x[2],x[3],x[4],x[5],x[6])\n",
      "#\n",
      "WSSSE = freq_norm_rdd.map(lambda point: squared_error(km_mdl_std_10,point)).reduce(lambda x, y: x + y)\n",
      "print(\"Within Set Sum of Squared Error = \" + str(WSSSE))"
     ],
     "language": "python",
     "metadata": {},
     "outputs": [
      {
       "output_type": "stream",
       "stream": "stdout",
       "text": [
        "     0.768      0.438      0.863      2.447      5.653      5.818      0.157\n",
        "    -0.375     -0.117     -0.600     -0.811     -0.219     -0.230      0.701\n",
        "     6.112      0.243      2.841      1.372      1.045      1.325      1.260\n",
        "     0.380      6.681      0.074      0.073      0.335      0.369     -0.117\n",
        "    -0.431     -0.141     -0.618     -0.889     -0.244     -0.253     -1.016\n",
        "     0.577     -0.110      2.175      1.112     -0.108     -0.080      0.416\n",
        "    -0.187     -0.137      0.023      0.506     -0.248     -0.267     -0.697\n",
        "     0.169      0.041      0.156      0.845      1.780      1.833     -0.022\n",
        "    -0.042     -0.137      0.169      0.491     -0.221     -0.237      0.988\n",
        "     2.015     -0.024      0.193      0.109      0.024      0.020      0.732\n",
        "Within Set Sum of Squared Error = 4695.75858313"
       ]
      },
      {
       "output_type": "stream",
       "stream": "stdout",
       "text": [
        "\n"
       ]
      }
     ],
     "prompt_number": 98
    },
    {
     "cell_type": "code",
     "collapsed": false,
     "input": [
      "cluster_rdd = freq_norm_rdd.map(lambda x: km_mdl_std_5.predict(x))"
     ],
     "language": "python",
     "metadata": {},
     "outputs": [],
     "prompt_number": 99
    },
    {
     "cell_type": "code",
     "collapsed": false,
     "input": [
      "cluster_rdd.take(10)"
     ],
     "language": "python",
     "metadata": {},
     "outputs": [
      {
       "metadata": {},
       "output_type": "pyout",
       "prompt_number": 100,
       "text": [
        "[0, 0, 0, 0, 2, 0, 2, 0, 1, 2]"
       ]
      }
     ],
     "prompt_number": 100
    },
    {
     "cell_type": "code",
     "collapsed": false,
     "input": [
      "freq_rdd_1 = inp_file.map(lambda line: array([int(x) for x in line.split(',')]))\n",
      "freq_cluster_map = freq_rdd_1.zip(cluster_rdd)"
     ],
     "language": "python",
     "metadata": {},
     "outputs": [],
     "prompt_number": 101
    },
    {
     "cell_type": "code",
     "collapsed": false,
     "input": [
      "freq_cluster_map.take(5)"
     ],
     "language": "python",
     "metadata": {},
     "outputs": [
      {
       "metadata": {},
       "output_type": "pyout",
       "prompt_number": 102,
       "text": [
        "[(array([28143,     0,   174,     1,     0,     0,  7000]), 0),\n",
        " (array([19244,     0,   215,     2,     0,     0,  6968]), 0),\n",
        " (array([41354,     0,  4123,     4,     0,     0,  7034]), 0),\n",
        " (array([14776,     0,   500,     1,     0,     0,  6952]), 0),\n",
        " (array([97752,     0, 43300,    26,  2077,     4,  6935]), 2)]"
       ]
      }
     ],
     "prompt_number": 102
    },
    {
     "cell_type": "code",
     "collapsed": false,
     "input": [
      "cluster_0 = freq_cluster_map.filter(lambda x: x[1] == 0)\n",
      "cluster_1 = freq_cluster_map.filter(lambda x: x[1] == 1)\n",
      "cluster_2 = freq_cluster_map.filter(lambda x: x[1] == 2)\n",
      "cluster_3 = freq_cluster_map.filter(lambda x: x[1] == 3)\n",
      "cluster_4 = freq_cluster_map.filter(lambda x: x[1] == 4)"
     ],
     "language": "python",
     "metadata": {},
     "outputs": [],
     "prompt_number": 103
    },
    {
     "cell_type": "code",
     "collapsed": false,
     "input": [
      "print cluster_0.count()\n",
      "print cluster_1.count()\n",
      "print cluster_2.count()\n",
      "print cluster_3.count()\n",
      "print cluster_4.count()"
     ],
     "language": "python",
     "metadata": {},
     "outputs": [
      {
       "output_type": "stream",
       "stream": "stdout",
       "text": [
        "1330\n",
        "139"
       ]
      },
      {
       "output_type": "stream",
       "stream": "stdout",
       "text": [
        "\n",
        "840"
       ]
      },
      {
       "output_type": "stream",
       "stream": "stdout",
       "text": [
        "\n",
        "75"
       ]
      },
      {
       "output_type": "stream",
       "stream": "stdout",
       "text": [
        "\n",
        "1615"
       ]
      },
      {
       "output_type": "stream",
       "stream": "stdout",
       "text": [
        "\n"
       ]
      }
     ],
     "prompt_number": 104
    },
    {
     "cell_type": "code",
     "collapsed": false,
     "input": [
      "cluster_0.count()+cluster_1.count()+cluster_2.count()+cluster_3.count()+cluster_4.count()"
     ],
     "language": "python",
     "metadata": {},
     "outputs": [
      {
       "metadata": {},
       "output_type": "pyout",
       "prompt_number": 105,
       "text": [
        "3999"
       ]
      }
     ],
     "prompt_number": 105
    },
    {
     "cell_type": "code",
     "collapsed": false,
     "input": [
      "freq_rdd_1.count()"
     ],
     "language": "python",
     "metadata": {},
     "outputs": [
      {
       "metadata": {},
       "output_type": "pyout",
       "prompt_number": 106,
       "text": [
        "3999"
       ]
      }
     ],
     "prompt_number": 106
    },
    {
     "cell_type": "code",
     "collapsed": false,
     "input": [
      "freq_cluster_map.count()"
     ],
     "language": "python",
     "metadata": {},
     "outputs": [
      {
       "metadata": {},
       "output_type": "pyout",
       "prompt_number": 107,
       "text": [
        "3999"
       ]
      }
     ],
     "prompt_number": 107
    },
    {
     "cell_type": "code",
     "collapsed": false,
     "input": [
      "cluster_0.take(5)"
     ],
     "language": "python",
     "metadata": {},
     "outputs": [
      {
       "metadata": {},
       "output_type": "pyout",
       "prompt_number": 108,
       "text": [
        "[(array([28143,     0,   174,     1,     0,     0,  7000]), 0),\n",
        " (array([19244,     0,   215,     2,     0,     0,  6968]), 0),\n",
        " (array([41354,     0,  4123,     4,     0,     0,  7034]), 0),\n",
        " (array([14776,     0,   500,     1,     0,     0,  6952]), 0),\n",
        " (array([16420,     0,     0,     0,     0,     0,  6942]), 0)]"
       ]
      }
     ],
     "prompt_number": 108
    },
    {
     "cell_type": "code",
     "collapsed": false,
     "input": [
      "cluster_1.take(5)"
     ],
     "language": "python",
     "metadata": {},
     "outputs": [
      {
       "metadata": {},
       "output_type": "pyout",
       "prompt_number": 109,
       "text": [
        "[(array([443003,      0,   1753,     43,   3850,     12,   6948]), 1),\n",
        " (array([20584,     0,  3450,    11,  3450,    11,  6884]), 1),\n",
        " (array([60313,     0, 10000,    26,  3250,     9,  7829]), 1),\n",
        " (array([108137,      0,   6368,      5,   6368,      5,   6844]), 1),\n",
        " (array([53914,     0, 33767,    45,  5550,    29,  6826]), 1)]"
       ]
      }
     ],
     "prompt_number": 109
    },
    {
     "cell_type": "code",
     "collapsed": false,
     "input": [
      "cluster_2.take(5)"
     ],
     "language": "python",
     "metadata": {},
     "outputs": [
      {
       "metadata": {},
       "output_type": "pyout",
       "prompt_number": 110,
       "text": [
        "[(array([97752,     0, 43300,    26,  2077,     4,  6935]), 2),\n",
        " (array([84914,     0, 27482,    25,     0,     0,  6994]), 2),\n",
        " (array([104860,      0,  28426,     28,   1150,      3,   6931]), 2),\n",
        " (array([96522,     0, 61105,    19,     0,     0,  6924]), 2),\n",
        " (array([28495,     0, 49442,    15,     0,     0,  6912]), 2)]"
       ]
      }
     ],
     "prompt_number": 110
    },
    {
     "cell_type": "code",
     "collapsed": false,
     "input": [
      "cluster_3.take(5)"
     ],
     "language": "python",
     "metadata": {},
     "outputs": [
      {
       "metadata": {},
       "output_type": "pyout",
       "prompt_number": 111,
       "text": [
        "[(array([619393,      0,  15008,     14,      0,      0,   7819]), 3),\n",
        " (array([550367,      0,  12500,     13,     50,      1,   7801]), 3),\n",
        " (array([609477,      0,  21422,     22,   1200,      8,   6820]), 3),\n",
        " (array([969559,      0,   2500,      3,   1000,      2,   7718]), 3),\n",
        " (array([602064,      0, 194753,     26,   2250,     10,   7652]), 3)]"
       ]
      }
     ],
     "prompt_number": 111
    },
    {
     "cell_type": "code",
     "collapsed": false,
     "input": [
      "cluster_4.take(5)"
     ],
     "language": "python",
     "metadata": {},
     "outputs": [
      {
       "metadata": {},
       "output_type": "pyout",
       "prompt_number": 112,
       "text": [
        "[(array([1625,    0, 1375,    4,    0,    0, 1547]), 4),\n",
        " (array([22093,     0, 14857,    11,   200,     1,  2587]), 4),\n",
        " (array([44665,     0,   333,     2,   333,     2,  3601]), 4),\n",
        " (array([7291,    0,    0,    0,    0,    0, 4104]), 4),\n",
        " (array([65021,     0, 10369,    12,     0,     0,  3547]), 4)]"
       ]
      }
     ],
     "prompt_number": 112
    },
    {
     "cell_type": "code",
     "collapsed": false,
     "input": [
      "stat_0 = Statistics.colStats(cluster_0.map(lambda x: x[0]))\n",
      "stat_1 = Statistics.colStats(cluster_1.map(lambda x: x[0]))\n",
      "stat_2 = Statistics.colStats(cluster_2.map(lambda x: x[0]))\n",
      "stat_3 = Statistics.colStats(cluster_3.map(lambda x: x[0]))\n",
      "stat_4 = Statistics.colStats(cluster_4.map(lambda x: x[0]))\n",
      "print \"0 : %10.3f %10.3f %10.3f %10.3f %10.3f %10.3f %10.3f\" % (stat_0.mean()[0],stat_0.mean()[1],stat_0.mean()[2],\n",
      "                                                            stat_0.mean()[3],stat_0.mean()[4],stat_0.mean()[5],\n",
      "                                                            stat_0.mean()[6])\n",
      "print \"1 : %10.3f %10.3f %10.3f %10.3f %10.3f %10.3f %10.3f\" % (stat_1.mean()[0],stat_1.mean()[1],stat_1.mean()[2],\n",
      "                                                            stat_1.mean()[3],stat_1.mean()[4],stat_1.mean()[5],\n",
      "                                                            stat_1.mean()[6])\n",
      "print \"2 : %10.3f %10.3f %10.3f %10.3f %10.3f %10.3f %10.3f\" % (stat_2.mean()[0],stat_2.mean()[1],stat_2.mean()[2],\n",
      "                                                            stat_2.mean()[3],stat_2.mean()[4],stat_2.mean()[5],\n",
      "                                                            stat_2.mean()[6])\n",
      "print \"3 : %10.3f %10.3f %10.3f %10.3f %10.3f %10.3f %10.3f\" % (stat_3.mean()[0],stat_3.mean()[1],stat_3.mean()[2],\n",
      "                                                            stat_3.mean()[3],stat_3.mean()[4],stat_3.mean()[5],\n",
      "                                                            stat_3.mean()[6])\n",
      "print \"4 : %10.3f %10.3f %10.3f %10.3f %10.3f %10.3f %10.3f\" % (stat_4.mean()[0],stat_4.mean()[1],stat_4.mean()[2],\n",
      "                                                            stat_4.mean()[3],stat_4.mean()[4],stat_4.mean()[5],\n",
      "                                                            stat_4.mean()[6])\n",
      "# Balance, TopStatusQualMiles, NonFlightMiles, NonFlightTrans, FlightMiles, FlightTrans, DaysSinceEnroll"
     ],
     "language": "python",
     "metadata": {},
     "outputs": [
      {
       "output_type": "stream",
       "stream": "stdout",
       "text": [
        "0 :  57339.664     59.717   7816.832      8.547    197.886      0.608   5828.846\n",
        "1 : 131635.151    730.194  28490.317     27.367   5848.655     16.662   4460.209\n",
        "2 : 114024.856    260.704  46869.493     21.023    426.996      1.281   4751.283\n",
        "3 : 566085.013    314.907  62724.827     21.133   1456.040      5.013   6318.400\n",
        "4 :  38102.424     94.604   6273.043      7.419    183.116      0.568   2249.428\n"
       ]
      }
     ],
     "prompt_number": 113
    },
    {
     "cell_type": "markdown",
     "metadata": {},
     "source": [
      "````\n",
      "One run on Sep 27:\n",
      "0 :  37950.925     33.352   6660.214      7.644    183.511      0.567   2220.540 # Relatively new, not active\n",
      "1 :  56183.841     54.051   8370.021      8.902    205.035      0.620   5748.698\n",
      "2 : 117326.186   5445.305  19059.610     12.305    965.797      2.881   3874.831 # Top Status Qual Miles\n",
      "3 : 191736.336    471.566  33093.336     28.357   5763.133     16.769   4666.413 # Most Active\n",
      "4 : 150843.700     73.158  50474.264     21.183    473.292      1.441   4938.489 # non-flight but active customers\n",
      "````"
     ]
    },
    {
     "cell_type": "code",
     "collapsed": false,
     "input": [
      "# Different runs will produce different clusters\n",
      "# Once the model is executed, the characteristics can interpreted & used in business"
     ],
     "language": "python",
     "metadata": {},
     "outputs": []
    }
   ],
   "metadata": {}
  }
 ]
}