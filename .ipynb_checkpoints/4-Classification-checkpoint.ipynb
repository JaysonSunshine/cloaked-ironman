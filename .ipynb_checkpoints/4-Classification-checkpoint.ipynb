{
 "metadata": {
  "name": "",
  "signature": "sha256:a3e7c45537d70cd5be7f950bfd0fbefdc9208b38596c2c0b9f7a959f4e0215c9"
 },
 "nbformat": 3,
 "nbformat_minor": 0,
 "worksheets": [
  {
   "cells": [
    {
     "cell_type": "code",
     "collapsed": false,
     "input": [
      "from pyspark.context import SparkContext\n",
      "print \"Running Spark Version %s\" % (sc.version)"
     ],
     "language": "python",
     "metadata": {},
     "outputs": [
      {
       "output_type": "stream",
       "stream": "stdout",
       "text": [
        "Running Spark Version 1.1.0\n"
       ]
      }
     ],
     "prompt_number": 1
    },
    {
     "cell_type": "code",
     "collapsed": false,
     "input": [
      "from pyspark.conf import SparkConf\n",
      "conf = SparkConf()\n",
      "print conf.toDebugString()"
     ],
     "language": "python",
     "metadata": {},
     "outputs": [
      {
       "output_type": "stream",
       "stream": "stdout",
       "text": [
        "spark.app.name=pyspark-shell\n",
        "spark.io.compression.codec=org.apache.spark.io.LZFCompressionCodec\n",
        "spark.master=local[*]\n",
        "spark.submit.pyFiles=\n"
       ]
      }
     ],
     "prompt_number": 2
    },
    {
     "cell_type": "code",
     "collapsed": false,
     "input": [
      "inp_file = sc.textFile(\"titanic/titanic3_01.csv\")\n",
      "pass_rdd = inp_file.map(lambda line: line.split(','))\n",
      "# 0 pclass,1 survived,2 l.name,3.f.name, 4 sex,5 age,6 sibsp,7 parch,8 ticket,9 fare,10 cabin,\n",
      "# 11 embarked,12 boat,13 body,14 home.dest"
     ],
     "language": "python",
     "metadata": {},
     "outputs": [],
     "prompt_number": 3
    },
    {
     "cell_type": "code",
     "collapsed": false,
     "input": [
      "for x in pass_rdd.take(3):\n",
      "    print x"
     ],
     "language": "python",
     "metadata": {},
     "outputs": [
      {
       "output_type": "stream",
       "stream": "stdout",
       "text": [
        "[u'1', u'1', u'\"Allen', u' Miss. Elisabeth Walton\"', u'female', u'29', u'0', u'0', u'24160', u'211.3375', u'B5', u'S', u'2', u'', u'\"St Louis', u' MO\"']\n",
        "[u'1', u'1', u'\"Allison', u' Master. Hudson Trevor\"', u'male', u'0.9167', u'1', u'2', u'113781', u'151.5500', u'C22 C26', u'S', u'11', u'', u'\"Montreal', u' PQ / Chesterville', u' ON\"']\n",
        "[u'1', u'0', u'\"Allison', u' Miss. Helen Loraine\"', u'female', u'2', u'1', u'2', u'113781', u'151.5500', u'C22 C26', u'S', u'', u'', u'\"Montreal', u' PQ / Chesterville', u' ON\"']\n"
       ]
      }
     ],
     "prompt_number": 4
    },
    {
     "cell_type": "code",
     "collapsed": false,
     "input": [
      "from pyspark.mllib.regression import LabeledPoint\n",
      "def num(s):\n",
      "    try:\n",
      "        return int(s)\n",
      "    except ValueError:\n",
      "        try:\n",
      "            return float(s)\n",
      "        except ValueError:\n",
      "            return 0\n",
      "#\n",
      "def parse_passenger_list(x):\n",
      "    pclass = num(x[0])\n",
      "    survived = num(x[1])\n",
      "    # sex\n",
      "    sex=0\n",
      "    if x[4]=='male':\n",
      "        sex = 1\n",
      "    age=0\n",
      "    age = num(x[5])\n",
      "    sibsp = 0\n",
      "    sibsp = num(x[6])\n",
      "    parch = 0\n",
      "    parch = num(x[7])\n",
      "    fare = 0\n",
      "    fare = num(x[9])\n",
      "    cabin = x[10] # not now, categorical\n",
      "    # return labelled point\n",
      "    return LabeledPoint(survived,[pclass,sex,age,sibsp,parch,fare]) #,cabin])\n",
      "    #[pclass,sex,age,sibsp,parch,fare,cabin,survived]"
     ],
     "language": "python",
     "metadata": {},
     "outputs": [],
     "prompt_number": 5
    },
    {
     "cell_type": "code",
     "collapsed": false,
     "input": [
      "pass_rdd_01 = pass_rdd.map(lambda x: parse_passenger_list(x))"
     ],
     "language": "python",
     "metadata": {},
     "outputs": [],
     "prompt_number": 6
    },
    {
     "cell_type": "code",
     "collapsed": false,
     "input": [
      "pass_rdd_01.count()"
     ],
     "language": "python",
     "metadata": {},
     "outputs": [
      {
       "metadata": {},
       "output_type": "pyout",
       "prompt_number": 7,
       "text": [
        "1310"
       ]
      }
     ],
     "prompt_number": 7
    },
    {
     "cell_type": "code",
     "collapsed": false,
     "input": [
      "pass_rdd_01.first()"
     ],
     "language": "python",
     "metadata": {},
     "outputs": [
      {
       "metadata": {},
       "output_type": "pyout",
       "prompt_number": 8,
       "text": [
        "<pyspark.mllib.regression.LabeledPoint at 0x108f58710>"
       ]
      }
     ],
     "prompt_number": 8
    },
    {
     "cell_type": "code",
     "collapsed": false,
     "input": [
      "for x in pass_rdd_01.take(3):\n",
      "    print x\n",
      "# pclass,sex,age,sibsp,parch,fare,cabin,survived"
     ],
     "language": "python",
     "metadata": {},
     "outputs": [
      {
       "output_type": "stream",
       "stream": "stdout",
       "text": [
        "(1,[1.0,0.0,29.0,0.0,0.0,211.3375])\n",
        "(1,[1.0,1.0,0.9167,1.0,2.0,151.55])\n",
        "(0,[1.0,0.0,2.0,1.0,2.0,151.55])\n"
       ]
      }
     ],
     "prompt_number": 9
    },
    {
     "cell_type": "code",
     "collapsed": false,
     "input": [
      "from pyspark.mllib.tree import DecisionTree\n",
      "model = DecisionTree.trainClassifier(pass_rdd_01, numClasses=2,categoricalFeaturesInfo={})"
     ],
     "language": "python",
     "metadata": {},
     "outputs": [],
     "prompt_number": 10
    },
    {
     "cell_type": "code",
     "collapsed": false,
     "input": [
      "print(model)"
     ],
     "language": "python",
     "metadata": {},
     "outputs": [
      {
       "output_type": "stream",
       "stream": "stdout",
       "text": [
        "DecisionTreeModel classifier\n",
        "  If (feature 1 <= 0.0)\n",
        "   If (feature 0 <= 2.0)\n",
        "    If (feature 5 <= 26.0)\n",
        "     If (feature 2 <= 55.0)\n",
        "      Predict: 1.0\n",
        "     Else (feature 2 > 55.0)\n",
        "      Predict: 0.0\n",
        "    Else (feature 5 > 26.0)\n",
        "     If (feature 2 <= 60.0)\n",
        "      Predict: 1.0\n",
        "     Else (feature 2 > 60.0)\n",
        "      Predict: 1.0\n",
        "   Else (feature 0 > 2.0)\n",
        "    If (feature 5 <= 23.25)\n",
        "     If (feature 2 <= 16.0)\n",
        "      Predict: 1.0\n",
        "     Else (feature 2 > 16.0)\n",
        "      Predict: 0.0\n",
        "    Else (feature 5 > 23.25)\n",
        "     If (feature 4 <= 0.0)\n",
        "      Predict: 0.0\n",
        "     Else (feature 4 > 0.0)\n",
        "      Predict: 0.0\n",
        "  Else (feature 1 > 0.0)\n",
        "   If (feature 0 <= 1.0)\n",
        "    If (feature 2 <= 54.0)\n",
        "     If (feature 4 <= 1.0)\n",
        "      Predict: 0.0\n",
        "     Else (feature 4 > 1.0)\n",
        "      Predict: 1.0\n",
        "    Else (feature 2 > 54.0)\n",
        "     If (feature 5 <= 81.8583)\n",
        "      Predict: 0.0\n",
        "     Else (feature 5 > 81.8583)\n",
        "      Predict: 0.0\n",
        "   Else (feature 0 > 1.0)\n",
        "    If (feature 4 <= 0.0)\n",
        "     If (feature 5 <= 32.5)\n",
        "      Predict: 0.0\n",
        "     Else (feature 5 > 32.5)\n",
        "      Predict: 0.0\n",
        "    Else (feature 4 > 0.0)\n",
        "     If (feature 2 <= 9.0)\n",
        "      Predict: 0.0\n",
        "     Else (feature 2 > 9.0)\n",
        "      Predict: 0.0\n",
        "\n"
       ]
      }
     ],
     "prompt_number": 11
    },
    {
     "cell_type": "code",
     "collapsed": false,
     "input": [
      "def get_label(x):\n",
      "    return x.label\n",
      "#\n",
      "def get_features(x):\n",
      "    return x.features"
     ],
     "language": "python",
     "metadata": {},
     "outputs": [],
     "prompt_number": 12
    },
    {
     "cell_type": "code",
     "collapsed": false,
     "input": [
      "from numpy import array\n",
      "pass_labels = pass_rdd_01.map(lambda x: get_label(x))\n",
      "pass_features = pass_rdd_01.map(lambda x: get_features(x))\n",
      "pass_features_array = pass_rdd_01.map(lambda x: array([get_features(x)]))"
     ],
     "language": "python",
     "metadata": {},
     "outputs": [],
     "prompt_number": 13
    },
    {
     "cell_type": "code",
     "collapsed": false,
     "input": [
      "pass_labels.count()"
     ],
     "language": "python",
     "metadata": {},
     "outputs": [
      {
       "metadata": {},
       "output_type": "pyout",
       "prompt_number": 14,
       "text": [
        "1310"
       ]
      }
     ],
     "prompt_number": 14
    },
    {
     "cell_type": "code",
     "collapsed": false,
     "input": [
      "for x in pass_labels.take(3):\n",
      "    print x"
     ],
     "language": "python",
     "metadata": {},
     "outputs": [
      {
       "output_type": "stream",
       "stream": "stdout",
       "text": [
        "1\n",
        "1\n",
        "0\n"
       ]
      }
     ],
     "prompt_number": 15
    },
    {
     "cell_type": "code",
     "collapsed": false,
     "input": [
      "predictions = model.predict(pass_features)"
     ],
     "language": "python",
     "metadata": {},
     "outputs": [],
     "prompt_number": 16
    },
    {
     "cell_type": "code",
     "collapsed": false,
     "input": [
      "for x in predictions.take(3):\n",
      "    print x"
     ],
     "language": "python",
     "metadata": {},
     "outputs": [
      {
       "output_type": "stream",
       "stream": "stdout",
       "text": [
        "1.0\n",
        "1.0\n",
        "1.0\n"
       ]
      }
     ],
     "prompt_number": 17
    },
    {
     "cell_type": "code",
     "collapsed": false,
     "input": [
      "labelsAndPredictions = pass_rdd_01.map(lambda lp: lp.label).zip(predictions)"
     ],
     "language": "python",
     "metadata": {},
     "outputs": [],
     "prompt_number": 18
    },
    {
     "cell_type": "code",
     "collapsed": false,
     "input": [
      "labelsAndPredictions.first()"
     ],
     "language": "python",
     "metadata": {},
     "outputs": [
      {
       "metadata": {},
       "output_type": "pyout",
       "prompt_number": 19,
       "text": [
        "(1, 1.0)"
       ]
      }
     ],
     "prompt_number": 19
    },
    {
     "cell_type": "code",
     "collapsed": false,
     "input": [
      "trainMSE = labelsAndPredictions.map(lambda (v, p): (v - p) * (v - p)).sum() / float(pass_rdd_01.count())"
     ],
     "language": "python",
     "metadata": {},
     "outputs": [],
     "prompt_number": 20
    },
    {
     "cell_type": "code",
     "collapsed": false,
     "input": [
      "print trainMSE"
     ],
     "language": "python",
     "metadata": {},
     "outputs": [
      {
       "output_type": "stream",
       "stream": "stdout",
       "text": [
        "0.192366412214\n"
       ]
      }
     ],
     "prompt_number": 21
    },
    {
     "cell_type": "code",
     "collapsed": false,
     "input": [
      "seqOp = (lambda acc, x: acc + (x[0] == x[1]))\n",
      "train_correct = labelsAndPredictions.aggregate(0, seqOp, add)\n",
      "accuracy = train_correct / float(pass_rdd_01.count())\n",
      "print '%2.2f%s' % (accuracy*100,'%')"
     ],
     "language": "python",
     "metadata": {},
     "outputs": [
      {
       "output_type": "stream",
       "stream": "stdout",
       "text": [
        "80.76%\n"
       ]
      }
     ],
     "prompt_number": 22
    },
    {
     "cell_type": "heading",
     "level": 3,
     "metadata": {},
     "source": [
      "Now Let us try Naive Bayes & See if it improves the accuracy"
     ]
    },
    {
     "cell_type": "code",
     "collapsed": false,
     "input": [
      "from pyspark.mllib.classification import NaiveBayes\n",
      "nb_model = NaiveBayes.train(pass_rdd_01, 1.0)\n",
      "print nb_model"
     ],
     "language": "python",
     "metadata": {},
     "outputs": [
      {
       "output_type": "stream",
       "stream": "stdout",
       "text": [
        "<pyspark.mllib.classification.NaiveBayesModel object at 0x108f7c090>\n"
       ]
      }
     ],
     "prompt_number": 30
    },
    {
     "cell_type": "code",
     "collapsed": false,
     "input": [
      "nb_predictions = pass_features_array.map(lambda x: nb_model.predict(x))"
     ],
     "language": "python",
     "metadata": {},
     "outputs": [],
     "prompt_number": 31
    },
    {
     "cell_type": "code",
     "collapsed": false,
     "input": [
      "nb_predictions.first()"
     ],
     "language": "python",
     "metadata": {},
     "outputs": [
      {
       "metadata": {},
       "output_type": "pyout",
       "prompt_number": 32,
       "text": [
        "1.0"
       ]
      }
     ],
     "prompt_number": 32
    },
    {
     "cell_type": "code",
     "collapsed": false,
     "input": [
      "labelsAndPredictions_nb = pass_rdd_01.map(lambda lp: lp.label).zip(nb_predictions)"
     ],
     "language": "python",
     "metadata": {},
     "outputs": [],
     "prompt_number": 33
    },
    {
     "cell_type": "code",
     "collapsed": false,
     "input": [
      "labelsAndPredictions_nb.first()"
     ],
     "language": "python",
     "metadata": {},
     "outputs": [
      {
       "metadata": {},
       "output_type": "pyout",
       "prompt_number": 34,
       "text": [
        "(1, 1.0)"
       ]
      }
     ],
     "prompt_number": 34
    },
    {
     "cell_type": "code",
     "collapsed": false,
     "input": [
      "trainMSE_nb = labelsAndPredictions_nb.map(lambda (l, p): numpy.square(l - p)).sum() / float(pass_rdd_01.count())\n",
      "print trainMSE_nb"
     ],
     "language": "python",
     "metadata": {},
     "outputs": [
      {
       "output_type": "stream",
       "stream": "stdout",
       "text": [
        "0.331297709924\n"
       ]
      }
     ],
     "prompt_number": 35
    },
    {
     "cell_type": "code",
     "collapsed": false,
     "input": [
      "seqOp = (lambda acc, x: acc + (x[0] == x[1]))\n",
      "train_correct = labelsAndPredictions_nb.aggregate(0, seqOp, add)\n",
      "accuracy = train_correct / float(pass_rdd_01.count())\n",
      "print '%2.2f%s' % (accuracy*100,'%')"
     ],
     "language": "python",
     "metadata": {},
     "outputs": [
      {
       "output_type": "stream",
       "stream": "stdout",
       "text": [
        "66.87%\n"
       ]
      }
     ],
     "prompt_number": 36
    },
    {
     "cell_type": "code",
     "collapsed": false,
     "input": [
      "# Homework\n",
      "# https://github.com/apache/spark/blob/master/examples/src/main/python/mllib/decision_tree_runner.py\n",
      "# has some interesting (and elegant) routines we can use"
     ],
     "language": "python",
     "metadata": {},
     "outputs": [],
     "prompt_number": 37
    },
    {
     "cell_type": "raw",
     "metadata": {},
     "source": [
      "# Actually we would split train & test dataset & experiment with different features\n",
      "# Leave it as a Homework Exercise"
     ]
    },
    {
     "cell_type": "code",
     "collapsed": false,
     "input": [],
     "language": "python",
     "metadata": {},
     "outputs": []
    }
   ],
   "metadata": {}
  }
 ]
}