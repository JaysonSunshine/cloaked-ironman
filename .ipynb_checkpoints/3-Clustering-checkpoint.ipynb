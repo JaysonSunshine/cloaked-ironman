{
 "metadata": {
  "name": "",
  "signature": "sha256:78074a9b2fa27a5fa018cbcc8b85d695f2f94fa486f161868c36d978a9c5f381"
 },
 "nbformat": 3,
 "nbformat_minor": 0,
 "worksheets": [
  {
   "cells": [
    {
     "cell_type": "code",
     "collapsed": false,
     "input": [
      "from pyspark.context import SparkContext\n",
      "print \"Running Spark Version %s\" % (sc.version)"
     ],
     "language": "python",
     "metadata": {},
     "outputs": [
      {
       "output_type": "stream",
       "stream": "stdout",
       "text": [
        "Running Spark Version 1.1.0\n"
       ]
      }
     ],
     "prompt_number": 1
    },
    {
     "cell_type": "code",
     "collapsed": false,
     "input": [
      "import csv\n",
      "import StringIO"
     ],
     "language": "python",
     "metadata": {},
     "outputs": [],
     "prompt_number": 2
    },
    {
     "cell_type": "code",
     "collapsed": false,
     "input": [
      "def read_record_as_dict(inp_line):\n",
      "    a_line = StringIO.StringIO(inp_line)\n",
      "    reader = csv.DictReader(a_line, fieldnames=[\"Balance\",\"TopStatusQualMiles\",\"NonFlightMiles\",\"NonFlightTrans\",\n",
      "                                               \"FlightMiles\",\"FlightTrans\",\"DaysSinceEnroll\"])\n",
      "    return reader.next()"
     ],
     "language": "python",
     "metadata": {},
     "outputs": [],
     "prompt_number": 3
    },
    {
     "cell_type": "code",
     "collapsed": false,
     "input": [
      "freq_flyers = sc.textFile(\"freq-flyer/AirlinesCluster-01.csv\").map(read_record_as_dict)"
     ],
     "language": "python",
     "metadata": {},
     "outputs": [],
     "prompt_number": 4
    },
    {
     "cell_type": "code",
     "collapsed": false,
     "input": [
      "freq_flyers.first()"
     ],
     "language": "python",
     "metadata": {},
     "outputs": [
      {
       "metadata": {},
       "output_type": "pyout",
       "prompt_number": 5,
       "text": [
        "{'Balance': '28143',\n",
        " 'DaysSinceEnroll': '7000',\n",
        " 'FlightMiles': '0',\n",
        " 'FlightTrans': '0',\n",
        " 'NonFlightMiles': '174',\n",
        " 'NonFlightTrans': '1',\n",
        " 'TopStatusQualMiles': '0'}"
       ]
      }
     ],
     "prompt_number": 5
    },
    {
     "cell_type": "code",
     "collapsed": false,
     "input": [
      "freq_flyers.count()"
     ],
     "language": "python",
     "metadata": {},
     "outputs": [
      {
       "metadata": {},
       "output_type": "pyout",
       "prompt_number": 6,
       "text": [
        "3999"
       ]
      }
     ],
     "prompt_number": 6
    },
    {
     "cell_type": "code",
     "collapsed": false,
     "input": [
      "pic_str = \"%15s|%15s|%15s|%15s|%15s|%15s|%15s|\"\n",
      "print pic_str % (\"Balance\",\"NonFlightMiles\",\"NonFlightTrans\",\n",
      "                                    \"DaysSinceEnroll\",\"FlightMiles\",\"FlightTrans\",\"TopStatusQualMiles\")\n",
      "for x in freq_flyers.take(5):\n",
      "    print pic_str % (x[\"Balance\"],x[\"NonFlightMiles\"],x[\"NonFlightTrans\"],\n",
      "                                    x[\"DaysSinceEnroll\"],x[\"FlightMiles\"],x[\"FlightTrans\"],x[\"TopStatusQualMiles\"])"
     ],
     "language": "python",
     "metadata": {},
     "outputs": [
      {
       "output_type": "stream",
       "stream": "stdout",
       "text": [
        "        Balance| NonFlightMiles| NonFlightTrans|DaysSinceEnroll|    FlightMiles|    FlightTrans|TopStatusQualMiles|\n",
        "          28143|            174|              1|           7000|              0|              0|              0|"
       ]
      },
      {
       "output_type": "stream",
       "stream": "stdout",
       "text": [
        "\n",
        "          19244|            215|              2|           6968|              0|              0|              0|\n",
        "          41354|           4123|              4|           7034|              0|              0|              0|\n",
        "          14776|            500|              1|           6952|              0|              0|              0|\n",
        "          97752|          43300|             26|           6935|           2077|              4|              0|\n"
       ]
      }
     ],
     "prompt_number": 7
    },
    {
     "cell_type": "heading",
     "level": 6,
     "metadata": {},
     "source": [
      "But we need a table of numbers & strings. The above was just for understanding the data format"
     ]
    },
    {
     "cell_type": "code",
     "collapsed": false,
     "input": [
      "from pyspark.mllib.clustering import KMeans\n",
      "from numpy import array\n",
      "from math import sqrt"
     ],
     "language": "python",
     "metadata": {},
     "outputs": [],
     "prompt_number": 8
    },
    {
     "cell_type": "code",
     "collapsed": false,
     "input": [
      "inp_file = sc.textFile(\"freq-flyer/AirlinesCluster-01.csv\")\n",
      "freq_rdd = inp_file.map(lambda line: array([float(x) for x in line.split(',')]))"
     ],
     "language": "python",
     "metadata": {},
     "outputs": [],
     "prompt_number": 9
    },
    {
     "cell_type": "code",
     "collapsed": false,
     "input": [
      "freq_rdd.first()\n",
      "# Balance, TopStatusQualMiles, NonFlightMiles, NonFlightTrans, FlightMiles, FlightTrans, DaysSinceEnroll"
     ],
     "language": "python",
     "metadata": {},
     "outputs": [
      {
       "metadata": {},
       "output_type": "pyout",
       "prompt_number": 10,
       "text": [
        "array([  2.81430000e+04,   0.00000000e+00,   1.74000000e+02,\n",
        "         1.00000000e+00,   0.00000000e+00,   0.00000000e+00,\n",
        "         7.00000000e+03])"
       ]
      }
     ],
     "prompt_number": 10
    },
    {
     "cell_type": "code",
     "collapsed": false,
     "input": [
      "help(KMeans.train)"
     ],
     "language": "python",
     "metadata": {},
     "outputs": [
      {
       "output_type": "stream",
       "stream": "stdout",
       "text": [
        "Help on method train in module pyspark.mllib.clustering:\n",
        "\n",
        "train(cls, data, k, maxIterations=100, runs=1, initializationMode='k-means||') method of __builtin__.type instance\n",
        "    Train a k-means clustering model.\n",
        "\n"
       ]
      }
     ],
     "prompt_number": 11
    },
    {
     "cell_type": "code",
     "collapsed": false,
     "input": [
      "km_mdl_1 = KMeans.train(freq_rdd, 2, maxIterations=10,runs=10, initializationMode=\"random\")"
     ],
     "language": "python",
     "metadata": {},
     "outputs": [],
     "prompt_number": 12
    },
    {
     "cell_type": "code",
     "collapsed": false,
     "input": [
      "for x in km_mdl_1.clusterCenters:\n",
      "        print \"%10.3f %10.3f %10.3f %10.3f %10.3f %10.3f %10.3f\" % (x[0],x[1],x[2],x[3],x[4],x[5],x[6])\n",
      "# Balance, TopStatusQualMiles, NonFlightMiles, NonFlightTrans, FlightMiles, FlightTrans, DaysSinceEnroll"
     ],
     "language": "python",
     "metadata": {},
     "outputs": [
      {
       "output_type": "stream",
       "stream": "stdout",
       "text": [
        " 51356.287    126.293  14976.641     10.936    389.559      1.151   4001.617\n",
        "320111.326    341.607  41171.964     18.976   1241.275      3.843   5414.462\n"
       ]
      }
     ],
     "prompt_number": 13
    },
    {
     "cell_type": "code",
     "collapsed": false,
     "input": [
      "for x in freq_rdd.take(10):\n",
      "    print x,km_mdl_1.predict(x)"
     ],
     "language": "python",
     "metadata": {},
     "outputs": [
      {
       "output_type": "stream",
       "stream": "stdout",
       "text": [
        "[  2.81430000e+04   0.00000000e+00   1.74000000e+02   1.00000000e+00\n",
        "   0.00000000e+00   0.00000000e+00   7.00000000e+03] 0\n",
        "[  1.92440000e+04   0.00000000e+00   2.15000000e+02   2.00000000e+00\n",
        "   0.00000000e+00   0.00000000e+00   6.96800000e+03] 0\n",
        "[  4.13540000e+04   0.00000000e+00   4.12300000e+03   4.00000000e+00\n",
        "   0.00000000e+00   0.00000000e+00   7.03400000e+03] 0\n",
        "[  1.47760000e+04   0.00000000e+00   5.00000000e+02   1.00000000e+00\n",
        "   0.00000000e+00   0.00000000e+00   6.95200000e+03] 0\n",
        "[  9.77520000e+04   0.00000000e+00   4.33000000e+04   2.60000000e+01\n",
        "   2.07700000e+03   4.00000000e+00   6.93500000e+03] 0\n",
        "[ 16420.      0.      0.      0.      0.      0.   6942.] 0\n",
        "[  8.49140000e+04   0.00000000e+00   2.74820000e+04   2.50000000e+01\n",
        "   0.00000000e+00   0.00000000e+00   6.99400000e+03] 0\n",
        "[  2.08560000e+04   0.00000000e+00   5.25000000e+03   4.00000000e+00\n",
        "   2.50000000e+02   1.00000000e+00   6.93800000e+03] 0\n",
        "[  4.43003000e+05   0.00000000e+00   1.75300000e+03   4.30000000e+01\n",
        "   3.85000000e+03   1.20000000e+01   6.94800000e+03] 1\n",
        "[  1.04860000e+05   0.00000000e+00   2.84260000e+04   2.80000000e+01\n",
        "   1.15000000e+03   3.00000000e+00   6.93100000e+03] 0\n"
       ]
      }
     ],
     "prompt_number": 14
    },
    {
     "cell_type": "code",
     "collapsed": false,
     "input": [
      "def squared_error(mdl, point):\n",
      "    center = mdl.centers[mdl.predict(point)]\n",
      "    return sqrt(sum([x**2 for x in (point - center)]))"
     ],
     "language": "python",
     "metadata": {},
     "outputs": [],
     "prompt_number": 15
    },
    {
     "cell_type": "code",
     "collapsed": false,
     "input": [
      "WSSSE = freq_rdd.map(lambda point: squared_error(km_mdl_1,point)).reduce(lambda x, y: x + y)\n",
      "print(\"Within Set Sum of Squared Error = \" + str(WSSSE))"
     ],
     "language": "python",
     "metadata": {},
     "outputs": [
      {
       "output_type": "stream",
       "stream": "stdout",
       "text": [
        "Within Set Sum of Squared Error = 191906529.055\n"
       ]
      }
     ],
     "prompt_number": 16
    },
    {
     "cell_type": "code",
     "collapsed": false,
     "input": [
      "from pyspark.mllib.stat import Statistics\n",
      "summary = Statistics.colStats(freq_rdd)\n",
      "print summary.mean()"
     ],
     "language": "python",
     "metadata": {},
     "outputs": [
      {
       "output_type": "stream",
       "stream": "stdout",
       "text": [
        "[  7.36013276e+04   1.44114529e+02   1.71448462e+04   1.16019005e+01\n",
        "   4.60055764e+02   1.37359340e+00   4.11855939e+03]\n"
       ]
      }
     ],
     "prompt_number": 17
    },
    {
     "cell_type": "code",
     "collapsed": false,
     "input": [
      "print \"Mean : %10.3f %10.3f %10.3f %10.3f %10.3f %10.3f %10.3f\" % (summary.mean()[0],summary.mean()[1],summary.mean()[2],\n",
      "                                                            summary.mean()[3],summary.mean()[4],summary.mean()[5],\n",
      "                                                            summary.mean()[6])\n",
      "print \"Max  : %10.3f %10.3f %10.3f %10.3f %10.3f %10.3f %10.3f\" % (summary.max()[0],summary.max()[1],\n",
      "                                                                       summary.max()[2],\n",
      "                                                            summary.max()[3],summary.max()[4],summary.max()[5],\n",
      "                                                            summary.max()[6])\n",
      "print \"Min  : %10.3f %10.3f %10.3f %10.3f %10.3f %10.3f %10.3f\" % (summary.min()[0],summary.min()[1],\n",
      "                                                                       summary.min()[2],\n",
      "                                                            summary.min()[3],summary.min()[4],summary.min()[5],\n",
      "                                                            summary.min()[6])\n",
      "print \"Variance : %10.3f %10.3f %10.3f %10.3f %10.3f %10.3f %10.3f\" % (summary.variance()[0],summary.variance()[1],\n",
      "                                                                       summary.variance()[2],\n",
      "                                                            summary.variance()[3],summary.variance()[4],summary.variance()[5],\n",
      "                                                            summary.variance()[6])\n",
      "# Balance, TopStatusQualMiles, NonFlightMiles, NonFlightTrans, FlightMiles, FlightTrans, DaysSinceEnroll"
     ],
     "language": "python",
     "metadata": {},
     "outputs": [
      {
       "output_type": "stream",
       "stream": "stdout",
       "text": [
        "Mean :  73601.328    144.115  17144.846     11.602    460.056      1.374   4118.559\n",
        "Max  : 1704838.000  11148.000 263685.000     86.000  30817.000     53.000   8296.000\n",
        "Min  :      0.000      0.000      0.000      0.000      0.000      0.000      2.000\n",
        "Variance : 10155734647.781 598555.682 583269246.943     92.233 1960585.724     14.388 4264780.669\n"
       ]
      }
     ],
     "prompt_number": 18
    },
    {
     "cell_type": "code",
     "collapsed": false,
     "input": [
      "# You see, K-means clustering is \"isotropic\" in all directions of space and therefore tends to produce \n",
      "# more or less round (rather than elongated) clusters. [Ref 2]\n",
      "# In this situation leaving variances unequal is equivalent to putting more weight on variables with smaller variance, \n",
      "# so clusters will tend to be separated along variables with greater variance. [Ref 3]\n",
      "#\n",
      "# center, scale, box-cox, preprocess in caret\n",
      "# zero mean and unit variance\n",
      "#\n",
      "# (x - mu)/sigma\n",
      "# org.apache.spark.mlib.feature.StandardScaler does this, but to the best of my knowledge \n",
      "#            as of now (9/28/14) not available for python \n",
      "# So we do it manually, gives us a chance to do some functional programming !\n",
      "#"
     ],
     "language": "python",
     "metadata": {},
     "outputs": [],
     "prompt_number": 19
    },
    {
     "cell_type": "code",
     "collapsed": false,
     "input": [
      "data_mean = summary.mean()\n",
      "data_sigma = summary.variance()"
     ],
     "language": "python",
     "metadata": {},
     "outputs": [],
     "prompt_number": 20
    },
    {
     "cell_type": "code",
     "collapsed": false,
     "input": [
      "for x in data_sigma:\n",
      "    print x,sqrt(x)"
     ],
     "language": "python",
     "metadata": {},
     "outputs": [
      {
       "output_type": "stream",
       "stream": "stdout",
       "text": [
        "10155734647.8 100775.664958\n",
        "598555.682228 773.663804393\n",
        "583269246.943 24150.9678262\n",
        "92.2331729756 9.6038103363\n",
        "1960585.7235 1400.20917134\n",
        "14.3881569442 3.79317241161\n",
        "4264780.66925 2065.13454023\n"
       ]
      }
     ],
     "prompt_number": 21
    },
    {
     "cell_type": "code",
     "collapsed": false,
     "input": [
      "def center_and_scale(a_record):\n",
      "    for i in range(len(a_record)):\n",
      "        a_record[i] = (a_record[i] - data_mean[i])/sqrt(data_sigma[i]) # (x-mean)/sd\n",
      "    return a_record"
     ],
     "language": "python",
     "metadata": {},
     "outputs": [],
     "prompt_number": 23
    },
    {
     "cell_type": "code",
     "collapsed": false,
     "input": [
      "freq_norm_rdd = freq_rdd.map(lambda x: center_and_scale(x))"
     ],
     "language": "python",
     "metadata": {},
     "outputs": [],
     "prompt_number": 24
    },
    {
     "cell_type": "code",
     "collapsed": false,
     "input": [
      "freq_norm_rdd.first()"
     ],
     "language": "python",
     "metadata": {},
     "outputs": [
      {
       "metadata": {},
       "output_type": "pyout",
       "prompt_number": 25,
       "text": [
        "array([-0.45108437, -0.18627539, -0.70269839, -1.10392647, -0.32856217,\n",
        "       -0.36212258,  1.39527985])"
       ]
      }
     ],
     "prompt_number": 25
    },
    {
     "cell_type": "code",
     "collapsed": false,
     "input": [
      "# now let us try with the standardized data\n",
      "km_mdl_std = KMeans.train(freq_norm_rdd, 2, maxIterations=10,runs=10, initializationMode=\"random\")"
     ],
     "language": "python",
     "metadata": {},
     "outputs": [],
     "prompt_number": 26
    },
    {
     "cell_type": "code",
     "collapsed": false,
     "input": [
      "for x in km_mdl_std.clusterCenters:\n",
      "        print \"%10.3f %10.3f %10.3f %10.3f %10.3f %10.3f %10.3f\" % (x[0],x[1],x[2],x[3],x[4],x[5],x[6])\n",
      "# Balance, TopStatusQualMiles, NonFlightMiles, NonFlightTrans, FlightMiles, FlightTrans, DaysSinceEnroll"
     ],
     "language": "python",
     "metadata": {},
     "outputs": [
      {
       "output_type": "stream",
       "stream": "stdout",
       "text": [
        "    -0.209     -0.084     -0.247     -0.233     -0.211     -0.228     -0.091\n",
        "     1.151      0.463      1.360      1.287      1.164      1.257      0.501\n"
       ]
      }
     ],
     "prompt_number": 27
    },
    {
     "cell_type": "code",
     "collapsed": false,
     "input": [
      "WSSSE = freq_norm_rdd.map(lambda point: squared_error(km_mdl_std,point)).reduce(lambda x, y: x + y)\n",
      "print(\"Within Set Sum of Squared Error = \" + str(WSSSE))"
     ],
     "language": "python",
     "metadata": {},
     "outputs": [
      {
       "output_type": "stream",
       "stream": "stdout",
       "text": [
        "Within Set Sum of Squared Error = 7465.40002075\n"
       ]
      }
     ],
     "prompt_number": 28
    },
    {
     "cell_type": "code",
     "collapsed": false,
     "input": [
      "# Let us try with k= 5 clusters instead of k=2\n",
      "km_mdl_std_5 = KMeans.train(freq_norm_rdd, 5, maxIterations=10,runs=10, initializationMode=\"random\")"
     ],
     "language": "python",
     "metadata": {},
     "outputs": [],
     "prompt_number": 29
    },
    {
     "cell_type": "code",
     "collapsed": false,
     "input": [
      "for x in km_mdl_std_5.clusterCenters:\n",
      "        print \"%10.3f %10.3f %10.3f %10.3f %10.3f %10.3f %10.3f\" % (x[0],x[1],x[2],x[3],x[4],x[5],x[6])\n",
      "# Balance, TopStatusQualMiles, NonFlightMiles, NonFlightTrans, FlightMiles, FlightTrans, DaysSinceEnroll"
     ],
     "language": "python",
     "metadata": {},
     "outputs": [
      {
       "output_type": "stream",
       "stream": "stdout",
       "text": [
        "     0.401      6.979      0.085      0.073      0.343      0.383     -0.119\n",
        "    -0.186     -0.120     -0.387     -0.322     -0.189     -0.205      0.815\n",
        "    -0.351     -0.141     -0.433     -0.407     -0.200     -0.215     -0.907\n",
        "     1.133      0.415      0.637      1.698      3.754      3.999      0.271\n",
        "     0.734     -0.085      1.314      0.979      0.004      0.011      0.397\n"
       ]
      }
     ],
     "prompt_number": 30
    },
    {
     "cell_type": "code",
     "collapsed": false,
     "input": [
      "WSSSE = freq_norm_rdd.map(lambda point: squared_error(km_mdl_std_5,point)).reduce(lambda x, y: x + y)\n",
      "print(\"Within Set Sum of Squared Error = \" + str(WSSSE))"
     ],
     "language": "python",
     "metadata": {},
     "outputs": [
      {
       "output_type": "stream",
       "stream": "stdout",
       "text": [
        "Within Set Sum of Squared Error = 5808.78364719\n"
       ]
      }
     ],
     "prompt_number": 31
    },
    {
     "cell_type": "code",
     "collapsed": false,
     "input": [
      "km_mdl_std_10 = KMeans.train(freq_norm_rdd, 10, maxIterations=10,runs=10, initializationMode=\"random\")\n",
      "for x in km_mdl_std_10.clusterCenters:\n",
      "        print \"%10.3f %10.3f %10.3f %10.3f %10.3f %10.3f %10.3f\" % (x[0],x[1],x[2],x[3],x[4],x[5],x[6])\n",
      "#\n",
      "WSSSE = freq_norm_rdd.map(lambda point: squared_error(km_mdl_std_10,point)).reduce(lambda x, y: x + y)\n",
      "print(\"Within Set Sum of Squared Error = \" + str(WSSSE))"
     ],
     "language": "python",
     "metadata": {},
     "outputs": [
      {
       "output_type": "stream",
       "stream": "stdout",
       "text": [
        "    -0.304     -0.114     -0.568     -0.718     -0.224     -0.226     -0.058\n",
        "     0.909     -0.050      2.630      1.394      0.093      0.140      0.462\n",
        "     0.244     -0.130      0.457      0.545     -0.189     -0.213      0.997\n",
        "     0.202      0.055      0.074      0.761      1.912      1.907      0.006\n",
        "    -0.105     -0.142      0.165      0.616     -0.232     -0.253     -0.655\n",
        "    -0.296     -0.126     -0.565     -0.688     -0.225     -0.235      1.122\n",
        "     5.237      0.196      1.122      0.738      0.519      0.808      1.037\n",
        "    -0.465     -0.127     -0.602     -0.818     -0.247     -0.258     -1.223\n",
        "     0.748      0.492      0.961      2.523      5.785      6.097      0.136\n",
        "     0.401      6.979      0.085      0.073      0.343      0.383     -0.119\n",
        "Within Set Sum of Squared Error = 4707.67056428"
       ]
      },
      {
       "output_type": "stream",
       "stream": "stdout",
       "text": [
        "\n"
       ]
      }
     ],
     "prompt_number": 32
    },
    {
     "cell_type": "code",
     "collapsed": false,
     "input": [
      "cluster_rdd = freq_norm_rdd.map(lambda x: km_mdl_std_5.predict(x))"
     ],
     "language": "python",
     "metadata": {},
     "outputs": [],
     "prompt_number": 33
    },
    {
     "cell_type": "code",
     "collapsed": false,
     "input": [
      "cluster_rdd.take(10)"
     ],
     "language": "python",
     "metadata": {},
     "outputs": [
      {
       "metadata": {},
       "output_type": "pyout",
       "prompt_number": 34,
       "text": [
        "[1, 1, 1, 1, 4, 1, 4, 1, 3, 4]"
       ]
      }
     ],
     "prompt_number": 34
    },
    {
     "cell_type": "code",
     "collapsed": false,
     "input": [
      "freq_rdd_1 = inp_file.map(lambda line: array([int(x) for x in line.split(',')]))\n",
      "freq_cluster_map = freq_rdd_1.zip(cluster_rdd)"
     ],
     "language": "python",
     "metadata": {},
     "outputs": [],
     "prompt_number": 35
    },
    {
     "cell_type": "code",
     "collapsed": false,
     "input": [
      "freq_cluster_map.take(5)"
     ],
     "language": "python",
     "metadata": {},
     "outputs": [
      {
       "metadata": {},
       "output_type": "pyout",
       "prompt_number": 36,
       "text": [
        "[(array([28143,     0,   174,     1,     0,     0,  7000]), 1),\n",
        " (array([19244,     0,   215,     2,     0,     0,  6968]), 1),\n",
        " (array([41354,     0,  4123,     4,     0,     0,  7034]), 1),\n",
        " (array([14776,     0,   500,     1,     0,     0,  6952]), 1),\n",
        " (array([97752,     0, 43300,    26,  2077,     4,  6935]), 4)]"
       ]
      }
     ],
     "prompt_number": 36
    },
    {
     "cell_type": "code",
     "collapsed": false,
     "input": [
      "cluster_0 = freq_cluster_map.filter(lambda x: x[1] == 0)\n",
      "cluster_1 = freq_cluster_map.filter(lambda x: x[1] == 1)\n",
      "cluster_2 = freq_cluster_map.filter(lambda x: x[1] == 2)\n",
      "cluster_3 = freq_cluster_map.filter(lambda x: x[1] == 3)\n",
      "cluster_4 = freq_cluster_map.filter(lambda x: x[1] == 4)"
     ],
     "language": "python",
     "metadata": {},
     "outputs": [],
     "prompt_number": 37
    },
    {
     "cell_type": "code",
     "collapsed": false,
     "input": [
      "print cluster_0.count()\n",
      "print cluster_1.count()\n",
      "print cluster_2.count()\n",
      "print cluster_3.count()\n",
      "print cluster_4.count()"
     ],
     "language": "python",
     "metadata": {},
     "outputs": [
      {
       "output_type": "stream",
       "stream": "stdout",
       "text": [
        "57\n",
        "1352"
       ]
      },
      {
       "output_type": "stream",
       "stream": "stdout",
       "text": [
        "\n",
        "1615"
       ]
      },
      {
       "output_type": "stream",
       "stream": "stdout",
       "text": [
        "\n",
        "144"
       ]
      },
      {
       "output_type": "stream",
       "stream": "stdout",
       "text": [
        "\n",
        "831"
       ]
      },
      {
       "output_type": "stream",
       "stream": "stdout",
       "text": [
        "\n"
       ]
      }
     ],
     "prompt_number": 38
    },
    {
     "cell_type": "code",
     "collapsed": false,
     "input": [
      "cluster_0.count()+cluster_1.count()+cluster_2.count()+cluster_3.count()+cluster_4.count()"
     ],
     "language": "python",
     "metadata": {},
     "outputs": [
      {
       "metadata": {},
       "output_type": "pyout",
       "prompt_number": 39,
       "text": [
        "3999"
       ]
      }
     ],
     "prompt_number": 39
    },
    {
     "cell_type": "code",
     "collapsed": false,
     "input": [
      "freq_rdd_1.count()"
     ],
     "language": "python",
     "metadata": {},
     "outputs": [
      {
       "metadata": {},
       "output_type": "pyout",
       "prompt_number": 40,
       "text": [
        "3999"
       ]
      }
     ],
     "prompt_number": 40
    },
    {
     "cell_type": "code",
     "collapsed": false,
     "input": [
      "freq_cluster_map.count()"
     ],
     "language": "python",
     "metadata": {},
     "outputs": [
      {
       "metadata": {},
       "output_type": "pyout",
       "prompt_number": 41,
       "text": [
        "3999"
       ]
      }
     ],
     "prompt_number": 41
    },
    {
     "cell_type": "code",
     "collapsed": false,
     "input": [
      "cluster_0.take(5)"
     ],
     "language": "python",
     "metadata": {},
     "outputs": [
      {
       "metadata": {},
       "output_type": "pyout",
       "prompt_number": 42,
       "text": [
        "[(array([84409,  5031, 15436,    16,  1150,     4,  7766]), 0),\n",
        " (array([278457,   6727,  57313,     27,   1000,      2,   7101]), 0),\n",
        " (array([529886,   7210,  23866,     26,   7741,     15,   8296]), 0),\n",
        " (array([86520,  3445, 64450,    20,  1000,     2,  6592]), 0),\n",
        " (array([133445,   8264,   3375,     13,      0,      0,   6492]), 0)]"
       ]
      }
     ],
     "prompt_number": 42
    },
    {
     "cell_type": "code",
     "collapsed": false,
     "input": [
      "cluster_1.take(5)"
     ],
     "language": "python",
     "metadata": {},
     "outputs": [
      {
       "metadata": {},
       "output_type": "pyout",
       "prompt_number": 43,
       "text": [
        "[(array([28143,     0,   174,     1,     0,     0,  7000]), 1),\n",
        " (array([19244,     0,   215,     2,     0,     0,  6968]), 1),\n",
        " (array([41354,     0,  4123,     4,     0,     0,  7034]), 1),\n",
        " (array([14776,     0,   500,     1,     0,     0,  6952]), 1),\n",
        " (array([16420,     0,     0,     0,     0,     0,  6942]), 1)]"
       ]
      }
     ],
     "prompt_number": 43
    },
    {
     "cell_type": "code",
     "collapsed": false,
     "input": [
      "cluster_2.take(5)"
     ],
     "language": "python",
     "metadata": {},
     "outputs": [
      {
       "metadata": {},
       "output_type": "pyout",
       "prompt_number": 44,
       "text": [
        "[(array([1625,    0, 1375,    4,    0,    0, 1547]), 2),\n",
        " (array([22093,     0, 14857,    11,   200,     1,  2587]), 2),\n",
        " (array([44665,     0,   333,     2,   333,     2,  3601]), 2),\n",
        " (array([7291,    0,    0,    0,    0,    0, 4104]), 2),\n",
        " (array([65021,     0, 10369,    12,     0,     0,  3547]), 2)]"
       ]
      }
     ],
     "prompt_number": 44
    },
    {
     "cell_type": "code",
     "collapsed": false,
     "input": [
      "cluster_3.take(5)"
     ],
     "language": "python",
     "metadata": {},
     "outputs": [
      {
       "metadata": {},
       "output_type": "pyout",
       "prompt_number": 45,
       "text": [
        "[(array([443003,      0,   1753,     43,   3850,     12,   6948]), 3),\n",
        " (array([60313,     0, 10000,    26,  3250,     9,  7829]), 3),\n",
        " (array([108137,      0,   6368,      5,   6368,      5,   6844]), 3),\n",
        " (array([53914,     0, 33767,    45,  5550,    29,  6826]), 3),\n",
        " (array([185549,      0, 110859,     39,   2950,     16,   6778]), 3)]"
       ]
      }
     ],
     "prompt_number": 45
    },
    {
     "cell_type": "code",
     "collapsed": false,
     "input": [
      "cluster_4.take(5)"
     ],
     "language": "python",
     "metadata": {},
     "outputs": [
      {
       "metadata": {},
       "output_type": "pyout",
       "prompt_number": 46,
       "text": [
        "[(array([97752,     0, 43300,    26,  2077,     4,  6935]), 4),\n",
        " (array([84914,     0, 27482,    25,     0,     0,  6994]), 4),\n",
        " (array([104860,      0,  28426,     28,   1150,      3,   6931]), 4),\n",
        " (array([96522,     0, 61105,    19,     0,     0,  6924]), 4),\n",
        " (array([28495,     0, 49442,    15,     0,     0,  6912]), 4)]"
       ]
      }
     ],
     "prompt_number": 46
    },
    {
     "cell_type": "code",
     "collapsed": false,
     "input": [
      "stat_0 = Statistics.colStats(cluster_0.map(lambda x: x[0]))\n",
      "stat_1 = Statistics.colStats(cluster_1.map(lambda x: x[0]))\n",
      "stat_2 = Statistics.colStats(cluster_2.map(lambda x: x[0]))\n",
      "stat_3 = Statistics.colStats(cluster_3.map(lambda x: x[0]))\n",
      "stat_4 = Statistics.colStats(cluster_4.map(lambda x: x[0]))\n",
      "print \"0 : %10.3f %10.3f %10.3f %10.3f %10.3f %10.3f %10.3f\" % (stat_0.mean()[0],stat_0.mean()[1],stat_0.mean()[2],\n",
      "                                                            stat_0.mean()[3],stat_0.mean()[4],stat_0.mean()[5],\n",
      "                                                            stat_0.mean()[6])\n",
      "print \"1 : %10.3f %10.3f %10.3f %10.3f %10.3f %10.3f %10.3f\" % (stat_1.mean()[0],stat_1.mean()[1],stat_1.mean()[2],\n",
      "                                                            stat_1.mean()[3],stat_1.mean()[4],stat_1.mean()[5],\n",
      "                                                            stat_1.mean()[6])\n",
      "print \"2 : %10.3f %10.3f %10.3f %10.3f %10.3f %10.3f %10.3f\" % (stat_2.mean()[0],stat_2.mean()[1],stat_2.mean()[2],\n",
      "                                                            stat_2.mean()[3],stat_2.mean()[4],stat_2.mean()[5],\n",
      "                                                            stat_2.mean()[6])\n",
      "print \"3 : %10.3f %10.3f %10.3f %10.3f %10.3f %10.3f %10.3f\" % (stat_3.mean()[0],stat_3.mean()[1],stat_3.mean()[2],\n",
      "                                                            stat_3.mean()[3],stat_3.mean()[4],stat_3.mean()[5],\n",
      "                                                            stat_3.mean()[6])\n",
      "print \"4 : %10.3f %10.3f %10.3f %10.3f %10.3f %10.3f %10.3f\" % (stat_4.mean()[0],stat_4.mean()[1],stat_4.mean()[2],\n",
      "                                                            stat_4.mean()[3],stat_4.mean()[4],stat_4.mean()[5],\n",
      "                                                            stat_4.mean()[6])\n",
      "# Balance, TopStatusQualMiles, NonFlightMiles, NonFlightTrans, FlightMiles, FlightTrans, DaysSinceEnroll"
     ],
     "language": "python",
     "metadata": {},
     "outputs": [
      {
       "output_type": "stream",
       "stream": "stdout",
       "text": [
        "0 : 114012.175   5543.333  19196.684     12.298    939.772      2.825   3872.175\n",
        "1 :  55456.771     50.955   8001.631      8.641    202.240      0.608   5806.913\n",
        "2 :  38316.140     36.649   6719.382      7.700    179.636      0.559   2249.508\n",
        "3 : 190744.389    468.292  32891.861     28.243   5746.701     16.722   4662.750\n",
        "4 : 148625.395     78.016  49412.267     21.072    475.487      1.444   4926.676\n"
       ]
      }
     ],
     "prompt_number": 47
    },
    {
     "cell_type": "markdown",
     "metadata": {},
     "source": [
      "````\n",
      "One run on Sep 27:\n",
      "0 :  37950.925     33.352   6660.214      7.644    183.511      0.567   2220.540 # Relatively new, not active\n",
      "1 :  56183.841     54.051   8370.021      8.902    205.035      0.620   5748.698\n",
      "2 : 117326.186   5445.305  19059.610     12.305    965.797      2.881   3874.831 # Top Status Qual Miles\n",
      "3 : 191736.336    471.566  33093.336     28.357   5763.133     16.769   4666.413 # Most Active\n",
      "4 : 150843.700     73.158  50474.264     21.183    473.292      1.441   4938.489 # non-flight but active customers\n",
      "````\n",
      "````\n",
      "Run 10/28/14\n",
      "0 :  38091.905     32.784   6731.402      7.630    178.718      0.555   2281.777\n",
      "1 :  57441.909     55.024   8758.131      9.104    213.633      0.646   5823.841\n",
      "2 : 191736.336    471.566  33093.336     28.357   5763.133     16.769   4666.413\n",
      "3 : 117326.186   5445.305  19059.610     12.305    965.797      2.881   3874.831\n",
      "4 : 152607.968     74.778  51066.228     21.329    478.139      1.449   4913.985\n",
      "````"
     ]
    },
    {
     "cell_type": "code",
     "collapsed": false,
     "input": [
      "# Different runs will produce different clusters\n",
      "# Once the model is executed, the characteristics can interpreted & used in business"
     ],
     "language": "python",
     "metadata": {},
     "outputs": [],
     "prompt_number": 48
    },
    {
     "cell_type": "code",
     "collapsed": false,
     "input": [],
     "language": "python",
     "metadata": {},
     "outputs": [],
     "prompt_number": 48
    },
    {
     "cell_type": "code",
     "collapsed": false,
     "input": [],
     "language": "python",
     "metadata": {},
     "outputs": []
    }
   ],
   "metadata": {}
  }
 ]
}